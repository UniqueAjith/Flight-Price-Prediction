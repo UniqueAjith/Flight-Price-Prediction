{
 "cells": [
  {
   "cell_type": "markdown",
   "id": "603362de",
   "metadata": {},
   "source": [
    "# Data Collection"
   ]
  },
  {
   "cell_type": "code",
   "execution_count": 1,
   "id": "a4b88f6d",
   "metadata": {},
   "outputs": [],
   "source": [
    "#!pip install opendatasets"
   ]
  },
  {
   "cell_type": "code",
   "execution_count": 2,
   "id": "ffbc44e3",
   "metadata": {},
   "outputs": [],
   "source": [
    "#import opendatasets as od"
   ]
  },
  {
   "cell_type": "code",
   "execution_count": 3,
   "id": "651fc778",
   "metadata": {},
   "outputs": [],
   "source": [
    "#od.download(\"https://www.kaggle.com/rashikrahmanpritom/heart-attack-analysis-prediction-dataset\")"
   ]
  },
  {
   "cell_type": "markdown",
   "id": "653bfece",
   "metadata": {},
   "source": [
    "# Reading the Data"
   ]
  },
  {
   "cell_type": "markdown",
   "id": "ee2f4061",
   "metadata": {},
   "source": [
    "## Import the packages"
   ]
  },
  {
   "cell_type": "code",
   "execution_count": 4,
   "id": "b0091eda",
   "metadata": {},
   "outputs": [],
   "source": [
    "import numpy as np\n",
    "import pandas as pd\n",
    "import matplotlib.pyplot as plt\n",
    "import seaborn as sns\n",
    "%matplotlib inline\n",
    "\n",
    "from sklearn import metrics\n",
    "from sklearn.metrics import r2_score"
   ]
  },
  {
   "cell_type": "markdown",
   "id": "75f93e99",
   "metadata": {},
   "source": [
    "## Read the Train Dataset"
   ]
  },
  {
   "cell_type": "code",
   "execution_count": 5,
   "id": "466ca9b6",
   "metadata": {},
   "outputs": [],
   "source": [
    "train_data = pd.read_excel('./flight-fare-prediction-mh/Data_Train.xlsx')"
   ]
  },
  {
   "cell_type": "code",
   "execution_count": 6,
   "id": "f08915ab",
   "metadata": {},
   "outputs": [
    {
     "data": {
      "text/html": [
       "<div>\n",
       "<style scoped>\n",
       "    .dataframe tbody tr th:only-of-type {\n",
       "        vertical-align: middle;\n",
       "    }\n",
       "\n",
       "    .dataframe tbody tr th {\n",
       "        vertical-align: top;\n",
       "    }\n",
       "\n",
       "    .dataframe thead th {\n",
       "        text-align: right;\n",
       "    }\n",
       "</style>\n",
       "<table border=\"1\" class=\"dataframe\">\n",
       "  <thead>\n",
       "    <tr style=\"text-align: right;\">\n",
       "      <th></th>\n",
       "      <th>Airline</th>\n",
       "      <th>Date_of_Journey</th>\n",
       "      <th>Source</th>\n",
       "      <th>Destination</th>\n",
       "      <th>Route</th>\n",
       "      <th>Dep_Time</th>\n",
       "      <th>Arrival_Time</th>\n",
       "      <th>Duration</th>\n",
       "      <th>Total_Stops</th>\n",
       "      <th>Additional_Info</th>\n",
       "      <th>Price</th>\n",
       "    </tr>\n",
       "  </thead>\n",
       "  <tbody>\n",
       "    <tr>\n",
       "      <th>0</th>\n",
       "      <td>IndiGo</td>\n",
       "      <td>24/03/2019</td>\n",
       "      <td>Banglore</td>\n",
       "      <td>New Delhi</td>\n",
       "      <td>BLR → DEL</td>\n",
       "      <td>22:20</td>\n",
       "      <td>01:10 22 Mar</td>\n",
       "      <td>2h 50m</td>\n",
       "      <td>non-stop</td>\n",
       "      <td>No info</td>\n",
       "      <td>3897</td>\n",
       "    </tr>\n",
       "    <tr>\n",
       "      <th>1</th>\n",
       "      <td>Air India</td>\n",
       "      <td>1/05/2019</td>\n",
       "      <td>Kolkata</td>\n",
       "      <td>Banglore</td>\n",
       "      <td>CCU → IXR → BBI → BLR</td>\n",
       "      <td>05:50</td>\n",
       "      <td>13:15</td>\n",
       "      <td>7h 25m</td>\n",
       "      <td>2 stops</td>\n",
       "      <td>No info</td>\n",
       "      <td>7662</td>\n",
       "    </tr>\n",
       "    <tr>\n",
       "      <th>2</th>\n",
       "      <td>Jet Airways</td>\n",
       "      <td>9/06/2019</td>\n",
       "      <td>Delhi</td>\n",
       "      <td>Cochin</td>\n",
       "      <td>DEL → LKO → BOM → COK</td>\n",
       "      <td>09:25</td>\n",
       "      <td>04:25 10 Jun</td>\n",
       "      <td>19h</td>\n",
       "      <td>2 stops</td>\n",
       "      <td>No info</td>\n",
       "      <td>13882</td>\n",
       "    </tr>\n",
       "    <tr>\n",
       "      <th>3</th>\n",
       "      <td>IndiGo</td>\n",
       "      <td>12/05/2019</td>\n",
       "      <td>Kolkata</td>\n",
       "      <td>Banglore</td>\n",
       "      <td>CCU → NAG → BLR</td>\n",
       "      <td>18:05</td>\n",
       "      <td>23:30</td>\n",
       "      <td>5h 25m</td>\n",
       "      <td>1 stop</td>\n",
       "      <td>No info</td>\n",
       "      <td>6218</td>\n",
       "    </tr>\n",
       "    <tr>\n",
       "      <th>4</th>\n",
       "      <td>IndiGo</td>\n",
       "      <td>01/03/2019</td>\n",
       "      <td>Banglore</td>\n",
       "      <td>New Delhi</td>\n",
       "      <td>BLR → NAG → DEL</td>\n",
       "      <td>16:50</td>\n",
       "      <td>21:35</td>\n",
       "      <td>4h 45m</td>\n",
       "      <td>1 stop</td>\n",
       "      <td>No info</td>\n",
       "      <td>13302</td>\n",
       "    </tr>\n",
       "  </tbody>\n",
       "</table>\n",
       "</div>"
      ],
      "text/plain": [
       "       Airline Date_of_Journey    Source Destination                  Route  \\\n",
       "0       IndiGo      24/03/2019  Banglore   New Delhi              BLR → DEL   \n",
       "1    Air India       1/05/2019   Kolkata    Banglore  CCU → IXR → BBI → BLR   \n",
       "2  Jet Airways       9/06/2019     Delhi      Cochin  DEL → LKO → BOM → COK   \n",
       "3       IndiGo      12/05/2019   Kolkata    Banglore        CCU → NAG → BLR   \n",
       "4       IndiGo      01/03/2019  Banglore   New Delhi        BLR → NAG → DEL   \n",
       "\n",
       "  Dep_Time  Arrival_Time Duration Total_Stops Additional_Info  Price  \n",
       "0    22:20  01:10 22 Mar   2h 50m    non-stop         No info   3897  \n",
       "1    05:50         13:15   7h 25m     2 stops         No info   7662  \n",
       "2    09:25  04:25 10 Jun      19h     2 stops         No info  13882  \n",
       "3    18:05         23:30   5h 25m      1 stop         No info   6218  \n",
       "4    16:50         21:35   4h 45m      1 stop         No info  13302  "
      ]
     },
     "execution_count": 6,
     "metadata": {},
     "output_type": "execute_result"
    }
   ],
   "source": [
    "train_data.head()"
   ]
  },
  {
   "cell_type": "code",
   "execution_count": 7,
   "id": "9ed177aa",
   "metadata": {},
   "outputs": [
    {
     "data": {
      "text/html": [
       "<div>\n",
       "<style scoped>\n",
       "    .dataframe tbody tr th:only-of-type {\n",
       "        vertical-align: middle;\n",
       "    }\n",
       "\n",
       "    .dataframe tbody tr th {\n",
       "        vertical-align: top;\n",
       "    }\n",
       "\n",
       "    .dataframe thead th {\n",
       "        text-align: right;\n",
       "    }\n",
       "</style>\n",
       "<table border=\"1\" class=\"dataframe\">\n",
       "  <thead>\n",
       "    <tr style=\"text-align: right;\">\n",
       "      <th></th>\n",
       "      <th>Airline</th>\n",
       "      <th>Date_of_Journey</th>\n",
       "      <th>Source</th>\n",
       "      <th>Destination</th>\n",
       "      <th>Route</th>\n",
       "      <th>Dep_Time</th>\n",
       "      <th>Arrival_Time</th>\n",
       "      <th>Duration</th>\n",
       "      <th>Total_Stops</th>\n",
       "      <th>Additional_Info</th>\n",
       "      <th>Price</th>\n",
       "    </tr>\n",
       "  </thead>\n",
       "  <tbody>\n",
       "    <tr>\n",
       "      <th>10678</th>\n",
       "      <td>Air Asia</td>\n",
       "      <td>9/04/2019</td>\n",
       "      <td>Kolkata</td>\n",
       "      <td>Banglore</td>\n",
       "      <td>CCU → BLR</td>\n",
       "      <td>19:55</td>\n",
       "      <td>22:25</td>\n",
       "      <td>2h 30m</td>\n",
       "      <td>non-stop</td>\n",
       "      <td>No info</td>\n",
       "      <td>4107</td>\n",
       "    </tr>\n",
       "    <tr>\n",
       "      <th>10679</th>\n",
       "      <td>Air India</td>\n",
       "      <td>27/04/2019</td>\n",
       "      <td>Kolkata</td>\n",
       "      <td>Banglore</td>\n",
       "      <td>CCU → BLR</td>\n",
       "      <td>20:45</td>\n",
       "      <td>23:20</td>\n",
       "      <td>2h 35m</td>\n",
       "      <td>non-stop</td>\n",
       "      <td>No info</td>\n",
       "      <td>4145</td>\n",
       "    </tr>\n",
       "    <tr>\n",
       "      <th>10680</th>\n",
       "      <td>Jet Airways</td>\n",
       "      <td>27/04/2019</td>\n",
       "      <td>Banglore</td>\n",
       "      <td>Delhi</td>\n",
       "      <td>BLR → DEL</td>\n",
       "      <td>08:20</td>\n",
       "      <td>11:20</td>\n",
       "      <td>3h</td>\n",
       "      <td>non-stop</td>\n",
       "      <td>No info</td>\n",
       "      <td>7229</td>\n",
       "    </tr>\n",
       "    <tr>\n",
       "      <th>10681</th>\n",
       "      <td>Vistara</td>\n",
       "      <td>01/03/2019</td>\n",
       "      <td>Banglore</td>\n",
       "      <td>New Delhi</td>\n",
       "      <td>BLR → DEL</td>\n",
       "      <td>11:30</td>\n",
       "      <td>14:10</td>\n",
       "      <td>2h 40m</td>\n",
       "      <td>non-stop</td>\n",
       "      <td>No info</td>\n",
       "      <td>12648</td>\n",
       "    </tr>\n",
       "    <tr>\n",
       "      <th>10682</th>\n",
       "      <td>Air India</td>\n",
       "      <td>9/05/2019</td>\n",
       "      <td>Delhi</td>\n",
       "      <td>Cochin</td>\n",
       "      <td>DEL → GOI → BOM → COK</td>\n",
       "      <td>10:55</td>\n",
       "      <td>19:15</td>\n",
       "      <td>8h 20m</td>\n",
       "      <td>2 stops</td>\n",
       "      <td>No info</td>\n",
       "      <td>11753</td>\n",
       "    </tr>\n",
       "  </tbody>\n",
       "</table>\n",
       "</div>"
      ],
      "text/plain": [
       "           Airline Date_of_Journey    Source Destination  \\\n",
       "10678     Air Asia       9/04/2019   Kolkata    Banglore   \n",
       "10679    Air India      27/04/2019   Kolkata    Banglore   \n",
       "10680  Jet Airways      27/04/2019  Banglore       Delhi   \n",
       "10681      Vistara      01/03/2019  Banglore   New Delhi   \n",
       "10682    Air India       9/05/2019     Delhi      Cochin   \n",
       "\n",
       "                       Route Dep_Time Arrival_Time Duration Total_Stops  \\\n",
       "10678              CCU → BLR    19:55        22:25   2h 30m    non-stop   \n",
       "10679              CCU → BLR    20:45        23:20   2h 35m    non-stop   \n",
       "10680              BLR → DEL    08:20        11:20       3h    non-stop   \n",
       "10681              BLR → DEL    11:30        14:10   2h 40m    non-stop   \n",
       "10682  DEL → GOI → BOM → COK    10:55        19:15   8h 20m     2 stops   \n",
       "\n",
       "      Additional_Info  Price  \n",
       "10678         No info   4107  \n",
       "10679         No info   4145  \n",
       "10680         No info   7229  \n",
       "10681         No info  12648  \n",
       "10682         No info  11753  "
      ]
     },
     "execution_count": 7,
     "metadata": {},
     "output_type": "execute_result"
    }
   ],
   "source": [
    "train_data.tail()"
   ]
  },
  {
   "cell_type": "code",
   "execution_count": 8,
   "id": "e1f047c4",
   "metadata": {},
   "outputs": [
    {
     "name": "stdout",
     "output_type": "stream",
     "text": [
      "The Train Dataset contains 10683 rows and 11 columns...\n"
     ]
    }
   ],
   "source": [
    "print(f'The Train Dataset contains {train_data.shape[0]} rows and {train_data.shape[1]} columns...')"
   ]
  },
  {
   "cell_type": "markdown",
   "id": "b6329c3c",
   "metadata": {},
   "source": [
    "## Descriptive Statistics"
   ]
  },
  {
   "cell_type": "code",
   "execution_count": 9,
   "id": "a55b32f0",
   "metadata": {
    "scrolled": true
   },
   "outputs": [
    {
     "name": "stdout",
     "output_type": "stream",
     "text": [
      "<class 'pandas.core.frame.DataFrame'>\n",
      "RangeIndex: 10683 entries, 0 to 10682\n",
      "Data columns (total 11 columns):\n",
      " #   Column           Non-Null Count  Dtype \n",
      "---  ------           --------------  ----- \n",
      " 0   Airline          10683 non-null  object\n",
      " 1   Date_of_Journey  10683 non-null  object\n",
      " 2   Source           10683 non-null  object\n",
      " 3   Destination      10683 non-null  object\n",
      " 4   Route            10682 non-null  object\n",
      " 5   Dep_Time         10683 non-null  object\n",
      " 6   Arrival_Time     10683 non-null  object\n",
      " 7   Duration         10683 non-null  object\n",
      " 8   Total_Stops      10682 non-null  object\n",
      " 9   Additional_Info  10683 non-null  object\n",
      " 10  Price            10683 non-null  int64 \n",
      "dtypes: int64(1), object(10)\n",
      "memory usage: 918.2+ KB\n"
     ]
    }
   ],
   "source": [
    "train_data.info()"
   ]
  },
  {
   "cell_type": "code",
   "execution_count": 10,
   "id": "138f5d8e",
   "metadata": {
    "scrolled": true
   },
   "outputs": [
    {
     "data": {
      "text/html": [
       "<div>\n",
       "<style scoped>\n",
       "    .dataframe tbody tr th:only-of-type {\n",
       "        vertical-align: middle;\n",
       "    }\n",
       "\n",
       "    .dataframe tbody tr th {\n",
       "        vertical-align: top;\n",
       "    }\n",
       "\n",
       "    .dataframe thead th {\n",
       "        text-align: right;\n",
       "    }\n",
       "</style>\n",
       "<table border=\"1\" class=\"dataframe\">\n",
       "  <thead>\n",
       "    <tr style=\"text-align: right;\">\n",
       "      <th></th>\n",
       "      <th>Price</th>\n",
       "    </tr>\n",
       "  </thead>\n",
       "  <tbody>\n",
       "    <tr>\n",
       "      <th>count</th>\n",
       "      <td>10683.000000</td>\n",
       "    </tr>\n",
       "    <tr>\n",
       "      <th>mean</th>\n",
       "      <td>9087.064121</td>\n",
       "    </tr>\n",
       "    <tr>\n",
       "      <th>std</th>\n",
       "      <td>4611.359167</td>\n",
       "    </tr>\n",
       "    <tr>\n",
       "      <th>min</th>\n",
       "      <td>1759.000000</td>\n",
       "    </tr>\n",
       "    <tr>\n",
       "      <th>25%</th>\n",
       "      <td>5277.000000</td>\n",
       "    </tr>\n",
       "    <tr>\n",
       "      <th>50%</th>\n",
       "      <td>8372.000000</td>\n",
       "    </tr>\n",
       "    <tr>\n",
       "      <th>75%</th>\n",
       "      <td>12373.000000</td>\n",
       "    </tr>\n",
       "    <tr>\n",
       "      <th>max</th>\n",
       "      <td>79512.000000</td>\n",
       "    </tr>\n",
       "  </tbody>\n",
       "</table>\n",
       "</div>"
      ],
      "text/plain": [
       "              Price\n",
       "count  10683.000000\n",
       "mean    9087.064121\n",
       "std     4611.359167\n",
       "min     1759.000000\n",
       "25%     5277.000000\n",
       "50%     8372.000000\n",
       "75%    12373.000000\n",
       "max    79512.000000"
      ]
     },
     "execution_count": 10,
     "metadata": {},
     "output_type": "execute_result"
    }
   ],
   "source": [
    "train_data.describe()"
   ]
  },
  {
   "cell_type": "markdown",
   "id": "bdae2cf5",
   "metadata": {},
   "source": [
    "# Feature Engineering and EDA"
   ]
  },
  {
   "cell_type": "markdown",
   "id": "ca09ad50",
   "metadata": {},
   "source": [
    "## Handling Missing Values"
   ]
  },
  {
   "cell_type": "code",
   "execution_count": 11,
   "id": "e881730c",
   "metadata": {},
   "outputs": [
    {
     "data": {
      "text/plain": [
       "220"
      ]
     },
     "execution_count": 11,
     "metadata": {},
     "output_type": "execute_result"
    }
   ],
   "source": [
    "train_data.duplicated().sum()"
   ]
  },
  {
   "cell_type": "code",
   "execution_count": 12,
   "id": "2f2f19e1",
   "metadata": {},
   "outputs": [],
   "source": [
    "train_data.drop_duplicates(inplace=True)"
   ]
  },
  {
   "cell_type": "code",
   "execution_count": 13,
   "id": "70daf120",
   "metadata": {},
   "outputs": [
    {
     "data": {
      "text/plain": [
       "0"
      ]
     },
     "execution_count": 13,
     "metadata": {},
     "output_type": "execute_result"
    }
   ],
   "source": [
    "train_data.duplicated().sum()"
   ]
  },
  {
   "cell_type": "code",
   "execution_count": 14,
   "id": "c4e841af",
   "metadata": {},
   "outputs": [
    {
     "name": "stdout",
     "output_type": "stream",
     "text": [
      "Now, train_data Dataset contains 10463 rows and 11 columns...\n"
     ]
    }
   ],
   "source": [
    "print(f'Now, train_data Dataset contains {train_data.shape[0]} rows and {train_data.shape[1]} columns...')"
   ]
  },
  {
   "cell_type": "code",
   "execution_count": 15,
   "id": "26df4e01",
   "metadata": {
    "scrolled": false
   },
   "outputs": [
    {
     "data": {
      "text/plain": [
       "Airline            0\n",
       "Date_of_Journey    0\n",
       "Source             0\n",
       "Destination        0\n",
       "Route              1\n",
       "Dep_Time           0\n",
       "Arrival_Time       0\n",
       "Duration           0\n",
       "Total_Stops        1\n",
       "Additional_Info    0\n",
       "Price              0\n",
       "dtype: int64"
      ]
     },
     "execution_count": 15,
     "metadata": {},
     "output_type": "execute_result"
    }
   ],
   "source": [
    "train_data.isnull().sum()"
   ]
  },
  {
   "cell_type": "markdown",
   "id": "53fe6da3",
   "metadata": {},
   "source": [
    "Now, 2 columns having missing data.\n",
    "* 1. `Route` and `Total_Stops` columns has one missing value."
   ]
  },
  {
   "cell_type": "code",
   "execution_count": 16,
   "id": "6925ba33",
   "metadata": {},
   "outputs": [],
   "source": [
    "train_data.dropna(inplace = True)"
   ]
  },
  {
   "cell_type": "code",
   "execution_count": 17,
   "id": "e5170581",
   "metadata": {},
   "outputs": [
    {
     "data": {
      "text/plain": [
       "Airline            0\n",
       "Date_of_Journey    0\n",
       "Source             0\n",
       "Destination        0\n",
       "Route              0\n",
       "Dep_Time           0\n",
       "Arrival_Time       0\n",
       "Duration           0\n",
       "Total_Stops        0\n",
       "Additional_Info    0\n",
       "Price              0\n",
       "dtype: int64"
      ]
     },
     "execution_count": 17,
     "metadata": {},
     "output_type": "execute_result"
    }
   ],
   "source": [
    "train_data.isnull().sum()"
   ]
  },
  {
   "cell_type": "code",
   "execution_count": 18,
   "id": "88f7259a",
   "metadata": {},
   "outputs": [
    {
     "name": "stdout",
     "output_type": "stream",
     "text": [
      "<class 'pandas.core.frame.DataFrame'>\n",
      "Int64Index: 10462 entries, 0 to 10682\n",
      "Data columns (total 11 columns):\n",
      " #   Column           Non-Null Count  Dtype \n",
      "---  ------           --------------  ----- \n",
      " 0   Airline          10462 non-null  object\n",
      " 1   Date_of_Journey  10462 non-null  object\n",
      " 2   Source           10462 non-null  object\n",
      " 3   Destination      10462 non-null  object\n",
      " 4   Route            10462 non-null  object\n",
      " 5   Dep_Time         10462 non-null  object\n",
      " 6   Arrival_Time     10462 non-null  object\n",
      " 7   Duration         10462 non-null  object\n",
      " 8   Total_Stops      10462 non-null  object\n",
      " 9   Additional_Info  10462 non-null  object\n",
      " 10  Price            10462 non-null  int64 \n",
      "dtypes: int64(1), object(10)\n",
      "memory usage: 980.8+ KB\n"
     ]
    }
   ],
   "source": [
    "train_data.info()"
   ]
  },
  {
   "cell_type": "markdown",
   "id": "de2d4095",
   "metadata": {},
   "source": [
    "## Handling Object Data"
   ]
  },
  {
   "cell_type": "markdown",
   "id": "e4a33bf6",
   "metadata": {},
   "source": [
    "`Date_of_Journey`, `Dep_Time`, `Arrival_Time`, `Duration` are object datatype.\n",
    "To derive numeric features on these, we use pandas `to_datetime` and `to_timedelta` method to convert object data type to int datatype."
   ]
  },
  {
   "cell_type": "markdown",
   "id": "137aad4c",
   "metadata": {},
   "source": [
    "### Date_of_Journey column"
   ]
  },
  {
   "cell_type": "code",
   "execution_count": 19,
   "id": "3fe4f502",
   "metadata": {},
   "outputs": [
    {
     "data": {
      "text/html": [
       "<div>\n",
       "<style scoped>\n",
       "    .dataframe tbody tr th:only-of-type {\n",
       "        vertical-align: middle;\n",
       "    }\n",
       "\n",
       "    .dataframe tbody tr th {\n",
       "        vertical-align: top;\n",
       "    }\n",
       "\n",
       "    .dataframe thead th {\n",
       "        text-align: right;\n",
       "    }\n",
       "</style>\n",
       "<table border=\"1\" class=\"dataframe\">\n",
       "  <thead>\n",
       "    <tr style=\"text-align: right;\">\n",
       "      <th></th>\n",
       "      <th>Date_of_Journey</th>\n",
       "    </tr>\n",
       "  </thead>\n",
       "  <tbody>\n",
       "    <tr>\n",
       "      <th>0</th>\n",
       "      <td>24/03/2019</td>\n",
       "    </tr>\n",
       "    <tr>\n",
       "      <th>1</th>\n",
       "      <td>1/05/2019</td>\n",
       "    </tr>\n",
       "    <tr>\n",
       "      <th>2</th>\n",
       "      <td>9/06/2019</td>\n",
       "    </tr>\n",
       "    <tr>\n",
       "      <th>3</th>\n",
       "      <td>12/05/2019</td>\n",
       "    </tr>\n",
       "    <tr>\n",
       "      <th>4</th>\n",
       "      <td>01/03/2019</td>\n",
       "    </tr>\n",
       "  </tbody>\n",
       "</table>\n",
       "</div>"
      ],
      "text/plain": [
       "  Date_of_Journey\n",
       "0      24/03/2019\n",
       "1       1/05/2019\n",
       "2       9/06/2019\n",
       "3      12/05/2019\n",
       "4      01/03/2019"
      ]
     },
     "execution_count": 19,
     "metadata": {},
     "output_type": "execute_result"
    }
   ],
   "source": [
    "train_data['Date_of_Journey'].head().to_frame()"
   ]
  },
  {
   "cell_type": "code",
   "execution_count": 20,
   "id": "84f115e9",
   "metadata": {},
   "outputs": [],
   "source": [
    "# Extracting Day from Date_of-journey\n",
    "train_data[\"journey_day\"] = pd.to_datetime(train_data.Date_of_Journey, format=\"%d/%m/%Y\").dt.day"
   ]
  },
  {
   "cell_type": "code",
   "execution_count": 21,
   "id": "94692213",
   "metadata": {},
   "outputs": [],
   "source": [
    "# Extracting Month from Date_of-journey\n",
    "train_data[\"journey_month\"] = pd.to_datetime(train_data[\"Date_of_Journey\"], format = \"%d/%m/%Y\").dt.month"
   ]
  },
  {
   "cell_type": "code",
   "execution_count": 22,
   "id": "d7dc0a7b",
   "metadata": {},
   "outputs": [],
   "source": [
    "# Extracting Year from Date_of-journey\n",
    "train_data[\"journey_year\"] = pd.to_datetime(train_data[\"Date_of_Journey\"], format = \"%d/%m/%Y\").dt.year"
   ]
  },
  {
   "cell_type": "code",
   "execution_count": 23,
   "id": "ecb296cb",
   "metadata": {},
   "outputs": [],
   "source": [
    "train_data.drop([\"Date_of_Journey\"], axis = 1, inplace = True)"
   ]
  },
  {
   "cell_type": "code",
   "execution_count": 24,
   "id": "1c33baa6",
   "metadata": {},
   "outputs": [
    {
     "data": {
      "text/html": [
       "<div>\n",
       "<style scoped>\n",
       "    .dataframe tbody tr th:only-of-type {\n",
       "        vertical-align: middle;\n",
       "    }\n",
       "\n",
       "    .dataframe tbody tr th {\n",
       "        vertical-align: top;\n",
       "    }\n",
       "\n",
       "    .dataframe thead th {\n",
       "        text-align: right;\n",
       "    }\n",
       "</style>\n",
       "<table border=\"1\" class=\"dataframe\">\n",
       "  <thead>\n",
       "    <tr style=\"text-align: right;\">\n",
       "      <th></th>\n",
       "      <th>Airline</th>\n",
       "      <th>Source</th>\n",
       "      <th>Destination</th>\n",
       "      <th>Route</th>\n",
       "      <th>Dep_Time</th>\n",
       "      <th>Arrival_Time</th>\n",
       "      <th>Duration</th>\n",
       "      <th>Total_Stops</th>\n",
       "      <th>Additional_Info</th>\n",
       "      <th>Price</th>\n",
       "      <th>journey_day</th>\n",
       "      <th>journey_month</th>\n",
       "      <th>journey_year</th>\n",
       "    </tr>\n",
       "  </thead>\n",
       "  <tbody>\n",
       "    <tr>\n",
       "      <th>0</th>\n",
       "      <td>IndiGo</td>\n",
       "      <td>Banglore</td>\n",
       "      <td>New Delhi</td>\n",
       "      <td>BLR → DEL</td>\n",
       "      <td>22:20</td>\n",
       "      <td>01:10 22 Mar</td>\n",
       "      <td>2h 50m</td>\n",
       "      <td>non-stop</td>\n",
       "      <td>No info</td>\n",
       "      <td>3897</td>\n",
       "      <td>24</td>\n",
       "      <td>3</td>\n",
       "      <td>2019</td>\n",
       "    </tr>\n",
       "    <tr>\n",
       "      <th>1</th>\n",
       "      <td>Air India</td>\n",
       "      <td>Kolkata</td>\n",
       "      <td>Banglore</td>\n",
       "      <td>CCU → IXR → BBI → BLR</td>\n",
       "      <td>05:50</td>\n",
       "      <td>13:15</td>\n",
       "      <td>7h 25m</td>\n",
       "      <td>2 stops</td>\n",
       "      <td>No info</td>\n",
       "      <td>7662</td>\n",
       "      <td>1</td>\n",
       "      <td>5</td>\n",
       "      <td>2019</td>\n",
       "    </tr>\n",
       "    <tr>\n",
       "      <th>2</th>\n",
       "      <td>Jet Airways</td>\n",
       "      <td>Delhi</td>\n",
       "      <td>Cochin</td>\n",
       "      <td>DEL → LKO → BOM → COK</td>\n",
       "      <td>09:25</td>\n",
       "      <td>04:25 10 Jun</td>\n",
       "      <td>19h</td>\n",
       "      <td>2 stops</td>\n",
       "      <td>No info</td>\n",
       "      <td>13882</td>\n",
       "      <td>9</td>\n",
       "      <td>6</td>\n",
       "      <td>2019</td>\n",
       "    </tr>\n",
       "    <tr>\n",
       "      <th>3</th>\n",
       "      <td>IndiGo</td>\n",
       "      <td>Kolkata</td>\n",
       "      <td>Banglore</td>\n",
       "      <td>CCU → NAG → BLR</td>\n",
       "      <td>18:05</td>\n",
       "      <td>23:30</td>\n",
       "      <td>5h 25m</td>\n",
       "      <td>1 stop</td>\n",
       "      <td>No info</td>\n",
       "      <td>6218</td>\n",
       "      <td>12</td>\n",
       "      <td>5</td>\n",
       "      <td>2019</td>\n",
       "    </tr>\n",
       "    <tr>\n",
       "      <th>4</th>\n",
       "      <td>IndiGo</td>\n",
       "      <td>Banglore</td>\n",
       "      <td>New Delhi</td>\n",
       "      <td>BLR → NAG → DEL</td>\n",
       "      <td>16:50</td>\n",
       "      <td>21:35</td>\n",
       "      <td>4h 45m</td>\n",
       "      <td>1 stop</td>\n",
       "      <td>No info</td>\n",
       "      <td>13302</td>\n",
       "      <td>1</td>\n",
       "      <td>3</td>\n",
       "      <td>2019</td>\n",
       "    </tr>\n",
       "  </tbody>\n",
       "</table>\n",
       "</div>"
      ],
      "text/plain": [
       "       Airline    Source Destination                  Route Dep_Time  \\\n",
       "0       IndiGo  Banglore   New Delhi              BLR → DEL    22:20   \n",
       "1    Air India   Kolkata    Banglore  CCU → IXR → BBI → BLR    05:50   \n",
       "2  Jet Airways     Delhi      Cochin  DEL → LKO → BOM → COK    09:25   \n",
       "3       IndiGo   Kolkata    Banglore        CCU → NAG → BLR    18:05   \n",
       "4       IndiGo  Banglore   New Delhi        BLR → NAG → DEL    16:50   \n",
       "\n",
       "   Arrival_Time Duration Total_Stops Additional_Info  Price  journey_day  \\\n",
       "0  01:10 22 Mar   2h 50m    non-stop         No info   3897           24   \n",
       "1         13:15   7h 25m     2 stops         No info   7662            1   \n",
       "2  04:25 10 Jun      19h     2 stops         No info  13882            9   \n",
       "3         23:30   5h 25m      1 stop         No info   6218           12   \n",
       "4         21:35   4h 45m      1 stop         No info  13302            1   \n",
       "\n",
       "   journey_month  journey_year  \n",
       "0              3          2019  \n",
       "1              5          2019  \n",
       "2              6          2019  \n",
       "3              5          2019  \n",
       "4              3          2019  "
      ]
     },
     "execution_count": 24,
     "metadata": {},
     "output_type": "execute_result"
    }
   ],
   "source": [
    "train_data.head()"
   ]
  },
  {
   "cell_type": "markdown",
   "id": "deedbb6f",
   "metadata": {},
   "source": [
    "### Dep_Time column"
   ]
  },
  {
   "cell_type": "code",
   "execution_count": 25,
   "id": "2e417266",
   "metadata": {},
   "outputs": [
    {
     "data": {
      "text/html": [
       "<div>\n",
       "<style scoped>\n",
       "    .dataframe tbody tr th:only-of-type {\n",
       "        vertical-align: middle;\n",
       "    }\n",
       "\n",
       "    .dataframe tbody tr th {\n",
       "        vertical-align: top;\n",
       "    }\n",
       "\n",
       "    .dataframe thead th {\n",
       "        text-align: right;\n",
       "    }\n",
       "</style>\n",
       "<table border=\"1\" class=\"dataframe\">\n",
       "  <thead>\n",
       "    <tr style=\"text-align: right;\">\n",
       "      <th></th>\n",
       "      <th>Dep_Time</th>\n",
       "    </tr>\n",
       "  </thead>\n",
       "  <tbody>\n",
       "    <tr>\n",
       "      <th>0</th>\n",
       "      <td>22:20</td>\n",
       "    </tr>\n",
       "    <tr>\n",
       "      <th>1</th>\n",
       "      <td>05:50</td>\n",
       "    </tr>\n",
       "    <tr>\n",
       "      <th>2</th>\n",
       "      <td>09:25</td>\n",
       "    </tr>\n",
       "    <tr>\n",
       "      <th>3</th>\n",
       "      <td>18:05</td>\n",
       "    </tr>\n",
       "    <tr>\n",
       "      <th>4</th>\n",
       "      <td>16:50</td>\n",
       "    </tr>\n",
       "  </tbody>\n",
       "</table>\n",
       "</div>"
      ],
      "text/plain": [
       "  Dep_Time\n",
       "0    22:20\n",
       "1    05:50\n",
       "2    09:25\n",
       "3    18:05\n",
       "4    16:50"
      ]
     },
     "execution_count": 25,
     "metadata": {},
     "output_type": "execute_result"
    }
   ],
   "source": [
    "train_data['Dep_Time'].head().to_frame()"
   ]
  },
  {
   "cell_type": "code",
   "execution_count": 26,
   "id": "9450f401",
   "metadata": {},
   "outputs": [],
   "source": [
    "# Extracting Hour from Dep_Time\n",
    "train_data[\"dep_hour\"] = pd.to_datetime(train_data[\"Dep_Time\"]).dt.hour"
   ]
  },
  {
   "cell_type": "code",
   "execution_count": 27,
   "id": "a60965bb",
   "metadata": {},
   "outputs": [],
   "source": [
    "# Extracting Minutes from Dep_Time\n",
    "train_data[\"dep_min\"] = pd.to_datetime(train_data[\"Dep_Time\"]).dt.minute"
   ]
  },
  {
   "cell_type": "code",
   "execution_count": 28,
   "id": "bf3ebcbf",
   "metadata": {},
   "outputs": [],
   "source": [
    "train_data.drop([\"Dep_Time\"], axis = 1, inplace = True)"
   ]
  },
  {
   "cell_type": "code",
   "execution_count": 29,
   "id": "912e6e78",
   "metadata": {},
   "outputs": [
    {
     "data": {
      "text/html": [
       "<div>\n",
       "<style scoped>\n",
       "    .dataframe tbody tr th:only-of-type {\n",
       "        vertical-align: middle;\n",
       "    }\n",
       "\n",
       "    .dataframe tbody tr th {\n",
       "        vertical-align: top;\n",
       "    }\n",
       "\n",
       "    .dataframe thead th {\n",
       "        text-align: right;\n",
       "    }\n",
       "</style>\n",
       "<table border=\"1\" class=\"dataframe\">\n",
       "  <thead>\n",
       "    <tr style=\"text-align: right;\">\n",
       "      <th></th>\n",
       "      <th>Airline</th>\n",
       "      <th>Source</th>\n",
       "      <th>Destination</th>\n",
       "      <th>Route</th>\n",
       "      <th>Arrival_Time</th>\n",
       "      <th>Duration</th>\n",
       "      <th>Total_Stops</th>\n",
       "      <th>Additional_Info</th>\n",
       "      <th>Price</th>\n",
       "      <th>journey_day</th>\n",
       "      <th>journey_month</th>\n",
       "      <th>journey_year</th>\n",
       "      <th>dep_hour</th>\n",
       "      <th>dep_min</th>\n",
       "    </tr>\n",
       "  </thead>\n",
       "  <tbody>\n",
       "    <tr>\n",
       "      <th>0</th>\n",
       "      <td>IndiGo</td>\n",
       "      <td>Banglore</td>\n",
       "      <td>New Delhi</td>\n",
       "      <td>BLR → DEL</td>\n",
       "      <td>01:10 22 Mar</td>\n",
       "      <td>2h 50m</td>\n",
       "      <td>non-stop</td>\n",
       "      <td>No info</td>\n",
       "      <td>3897</td>\n",
       "      <td>24</td>\n",
       "      <td>3</td>\n",
       "      <td>2019</td>\n",
       "      <td>22</td>\n",
       "      <td>20</td>\n",
       "    </tr>\n",
       "    <tr>\n",
       "      <th>1</th>\n",
       "      <td>Air India</td>\n",
       "      <td>Kolkata</td>\n",
       "      <td>Banglore</td>\n",
       "      <td>CCU → IXR → BBI → BLR</td>\n",
       "      <td>13:15</td>\n",
       "      <td>7h 25m</td>\n",
       "      <td>2 stops</td>\n",
       "      <td>No info</td>\n",
       "      <td>7662</td>\n",
       "      <td>1</td>\n",
       "      <td>5</td>\n",
       "      <td>2019</td>\n",
       "      <td>5</td>\n",
       "      <td>50</td>\n",
       "    </tr>\n",
       "    <tr>\n",
       "      <th>2</th>\n",
       "      <td>Jet Airways</td>\n",
       "      <td>Delhi</td>\n",
       "      <td>Cochin</td>\n",
       "      <td>DEL → LKO → BOM → COK</td>\n",
       "      <td>04:25 10 Jun</td>\n",
       "      <td>19h</td>\n",
       "      <td>2 stops</td>\n",
       "      <td>No info</td>\n",
       "      <td>13882</td>\n",
       "      <td>9</td>\n",
       "      <td>6</td>\n",
       "      <td>2019</td>\n",
       "      <td>9</td>\n",
       "      <td>25</td>\n",
       "    </tr>\n",
       "    <tr>\n",
       "      <th>3</th>\n",
       "      <td>IndiGo</td>\n",
       "      <td>Kolkata</td>\n",
       "      <td>Banglore</td>\n",
       "      <td>CCU → NAG → BLR</td>\n",
       "      <td>23:30</td>\n",
       "      <td>5h 25m</td>\n",
       "      <td>1 stop</td>\n",
       "      <td>No info</td>\n",
       "      <td>6218</td>\n",
       "      <td>12</td>\n",
       "      <td>5</td>\n",
       "      <td>2019</td>\n",
       "      <td>18</td>\n",
       "      <td>5</td>\n",
       "    </tr>\n",
       "    <tr>\n",
       "      <th>4</th>\n",
       "      <td>IndiGo</td>\n",
       "      <td>Banglore</td>\n",
       "      <td>New Delhi</td>\n",
       "      <td>BLR → NAG → DEL</td>\n",
       "      <td>21:35</td>\n",
       "      <td>4h 45m</td>\n",
       "      <td>1 stop</td>\n",
       "      <td>No info</td>\n",
       "      <td>13302</td>\n",
       "      <td>1</td>\n",
       "      <td>3</td>\n",
       "      <td>2019</td>\n",
       "      <td>16</td>\n",
       "      <td>50</td>\n",
       "    </tr>\n",
       "  </tbody>\n",
       "</table>\n",
       "</div>"
      ],
      "text/plain": [
       "       Airline    Source Destination                  Route  Arrival_Time  \\\n",
       "0       IndiGo  Banglore   New Delhi              BLR → DEL  01:10 22 Mar   \n",
       "1    Air India   Kolkata    Banglore  CCU → IXR → BBI → BLR         13:15   \n",
       "2  Jet Airways     Delhi      Cochin  DEL → LKO → BOM → COK  04:25 10 Jun   \n",
       "3       IndiGo   Kolkata    Banglore        CCU → NAG → BLR         23:30   \n",
       "4       IndiGo  Banglore   New Delhi        BLR → NAG → DEL         21:35   \n",
       "\n",
       "  Duration Total_Stops Additional_Info  Price  journey_day  journey_month  \\\n",
       "0   2h 50m    non-stop         No info   3897           24              3   \n",
       "1   7h 25m     2 stops         No info   7662            1              5   \n",
       "2      19h     2 stops         No info  13882            9              6   \n",
       "3   5h 25m      1 stop         No info   6218           12              5   \n",
       "4   4h 45m      1 stop         No info  13302            1              3   \n",
       "\n",
       "   journey_year  dep_hour  dep_min  \n",
       "0          2019        22       20  \n",
       "1          2019         5       50  \n",
       "2          2019         9       25  \n",
       "3          2019        18        5  \n",
       "4          2019        16       50  "
      ]
     },
     "execution_count": 29,
     "metadata": {},
     "output_type": "execute_result"
    }
   ],
   "source": [
    "train_data.head()"
   ]
  },
  {
   "cell_type": "markdown",
   "id": "d210097c",
   "metadata": {},
   "source": [
    "### Arrival_Time column"
   ]
  },
  {
   "cell_type": "code",
   "execution_count": 30,
   "id": "88871068",
   "metadata": {},
   "outputs": [
    {
     "data": {
      "text/html": [
       "<div>\n",
       "<style scoped>\n",
       "    .dataframe tbody tr th:only-of-type {\n",
       "        vertical-align: middle;\n",
       "    }\n",
       "\n",
       "    .dataframe tbody tr th {\n",
       "        vertical-align: top;\n",
       "    }\n",
       "\n",
       "    .dataframe thead th {\n",
       "        text-align: right;\n",
       "    }\n",
       "</style>\n",
       "<table border=\"1\" class=\"dataframe\">\n",
       "  <thead>\n",
       "    <tr style=\"text-align: right;\">\n",
       "      <th></th>\n",
       "      <th>Arrival_Time</th>\n",
       "    </tr>\n",
       "  </thead>\n",
       "  <tbody>\n",
       "    <tr>\n",
       "      <th>0</th>\n",
       "      <td>01:10 22 Mar</td>\n",
       "    </tr>\n",
       "    <tr>\n",
       "      <th>1</th>\n",
       "      <td>13:15</td>\n",
       "    </tr>\n",
       "    <tr>\n",
       "      <th>2</th>\n",
       "      <td>04:25 10 Jun</td>\n",
       "    </tr>\n",
       "    <tr>\n",
       "      <th>3</th>\n",
       "      <td>23:30</td>\n",
       "    </tr>\n",
       "    <tr>\n",
       "      <th>4</th>\n",
       "      <td>21:35</td>\n",
       "    </tr>\n",
       "  </tbody>\n",
       "</table>\n",
       "</div>"
      ],
      "text/plain": [
       "   Arrival_Time\n",
       "0  01:10 22 Mar\n",
       "1         13:15\n",
       "2  04:25 10 Jun\n",
       "3         23:30\n",
       "4         21:35"
      ]
     },
     "execution_count": 30,
     "metadata": {},
     "output_type": "execute_result"
    }
   ],
   "source": [
    "train_data['Arrival_Time'].head().to_frame()"
   ]
  },
  {
   "cell_type": "code",
   "execution_count": 31,
   "id": "fbdd9f20",
   "metadata": {},
   "outputs": [],
   "source": [
    "# Extracting Hour from Arrival_Time\n",
    "train_data[\"arrival_hour\"] = pd.to_datetime(train_data[\"Arrival_Time\"]).dt.hour"
   ]
  },
  {
   "cell_type": "code",
   "execution_count": 32,
   "id": "81da90d1",
   "metadata": {},
   "outputs": [],
   "source": [
    "# Extracting Minutes from Arrival_Time\n",
    "train_data[\"arrival_min\"] = pd.to_datetime(train_data[\"Arrival_Time\"]).dt.minute"
   ]
  },
  {
   "cell_type": "code",
   "execution_count": 33,
   "id": "c29d89a5",
   "metadata": {},
   "outputs": [],
   "source": [
    "train_data.drop([\"Arrival_Time\"], axis = 1, inplace = True)"
   ]
  },
  {
   "cell_type": "code",
   "execution_count": 34,
   "id": "8c94cdee",
   "metadata": {},
   "outputs": [
    {
     "data": {
      "text/html": [
       "<div>\n",
       "<style scoped>\n",
       "    .dataframe tbody tr th:only-of-type {\n",
       "        vertical-align: middle;\n",
       "    }\n",
       "\n",
       "    .dataframe tbody tr th {\n",
       "        vertical-align: top;\n",
       "    }\n",
       "\n",
       "    .dataframe thead th {\n",
       "        text-align: right;\n",
       "    }\n",
       "</style>\n",
       "<table border=\"1\" class=\"dataframe\">\n",
       "  <thead>\n",
       "    <tr style=\"text-align: right;\">\n",
       "      <th></th>\n",
       "      <th>Airline</th>\n",
       "      <th>Source</th>\n",
       "      <th>Destination</th>\n",
       "      <th>Route</th>\n",
       "      <th>Duration</th>\n",
       "      <th>Total_Stops</th>\n",
       "      <th>Additional_Info</th>\n",
       "      <th>Price</th>\n",
       "      <th>journey_day</th>\n",
       "      <th>journey_month</th>\n",
       "      <th>journey_year</th>\n",
       "      <th>dep_hour</th>\n",
       "      <th>dep_min</th>\n",
       "      <th>arrival_hour</th>\n",
       "      <th>arrival_min</th>\n",
       "    </tr>\n",
       "  </thead>\n",
       "  <tbody>\n",
       "    <tr>\n",
       "      <th>0</th>\n",
       "      <td>IndiGo</td>\n",
       "      <td>Banglore</td>\n",
       "      <td>New Delhi</td>\n",
       "      <td>BLR → DEL</td>\n",
       "      <td>2h 50m</td>\n",
       "      <td>non-stop</td>\n",
       "      <td>No info</td>\n",
       "      <td>3897</td>\n",
       "      <td>24</td>\n",
       "      <td>3</td>\n",
       "      <td>2019</td>\n",
       "      <td>22</td>\n",
       "      <td>20</td>\n",
       "      <td>1</td>\n",
       "      <td>10</td>\n",
       "    </tr>\n",
       "    <tr>\n",
       "      <th>1</th>\n",
       "      <td>Air India</td>\n",
       "      <td>Kolkata</td>\n",
       "      <td>Banglore</td>\n",
       "      <td>CCU → IXR → BBI → BLR</td>\n",
       "      <td>7h 25m</td>\n",
       "      <td>2 stops</td>\n",
       "      <td>No info</td>\n",
       "      <td>7662</td>\n",
       "      <td>1</td>\n",
       "      <td>5</td>\n",
       "      <td>2019</td>\n",
       "      <td>5</td>\n",
       "      <td>50</td>\n",
       "      <td>13</td>\n",
       "      <td>15</td>\n",
       "    </tr>\n",
       "    <tr>\n",
       "      <th>2</th>\n",
       "      <td>Jet Airways</td>\n",
       "      <td>Delhi</td>\n",
       "      <td>Cochin</td>\n",
       "      <td>DEL → LKO → BOM → COK</td>\n",
       "      <td>19h</td>\n",
       "      <td>2 stops</td>\n",
       "      <td>No info</td>\n",
       "      <td>13882</td>\n",
       "      <td>9</td>\n",
       "      <td>6</td>\n",
       "      <td>2019</td>\n",
       "      <td>9</td>\n",
       "      <td>25</td>\n",
       "      <td>4</td>\n",
       "      <td>25</td>\n",
       "    </tr>\n",
       "    <tr>\n",
       "      <th>3</th>\n",
       "      <td>IndiGo</td>\n",
       "      <td>Kolkata</td>\n",
       "      <td>Banglore</td>\n",
       "      <td>CCU → NAG → BLR</td>\n",
       "      <td>5h 25m</td>\n",
       "      <td>1 stop</td>\n",
       "      <td>No info</td>\n",
       "      <td>6218</td>\n",
       "      <td>12</td>\n",
       "      <td>5</td>\n",
       "      <td>2019</td>\n",
       "      <td>18</td>\n",
       "      <td>5</td>\n",
       "      <td>23</td>\n",
       "      <td>30</td>\n",
       "    </tr>\n",
       "    <tr>\n",
       "      <th>4</th>\n",
       "      <td>IndiGo</td>\n",
       "      <td>Banglore</td>\n",
       "      <td>New Delhi</td>\n",
       "      <td>BLR → NAG → DEL</td>\n",
       "      <td>4h 45m</td>\n",
       "      <td>1 stop</td>\n",
       "      <td>No info</td>\n",
       "      <td>13302</td>\n",
       "      <td>1</td>\n",
       "      <td>3</td>\n",
       "      <td>2019</td>\n",
       "      <td>16</td>\n",
       "      <td>50</td>\n",
       "      <td>21</td>\n",
       "      <td>35</td>\n",
       "    </tr>\n",
       "  </tbody>\n",
       "</table>\n",
       "</div>"
      ],
      "text/plain": [
       "       Airline    Source Destination                  Route Duration  \\\n",
       "0       IndiGo  Banglore   New Delhi              BLR → DEL   2h 50m   \n",
       "1    Air India   Kolkata    Banglore  CCU → IXR → BBI → BLR   7h 25m   \n",
       "2  Jet Airways     Delhi      Cochin  DEL → LKO → BOM → COK      19h   \n",
       "3       IndiGo   Kolkata    Banglore        CCU → NAG → BLR   5h 25m   \n",
       "4       IndiGo  Banglore   New Delhi        BLR → NAG → DEL   4h 45m   \n",
       "\n",
       "  Total_Stops Additional_Info  Price  journey_day  journey_month  \\\n",
       "0    non-stop         No info   3897           24              3   \n",
       "1     2 stops         No info   7662            1              5   \n",
       "2     2 stops         No info  13882            9              6   \n",
       "3      1 stop         No info   6218           12              5   \n",
       "4      1 stop         No info  13302            1              3   \n",
       "\n",
       "   journey_year  dep_hour  dep_min  arrival_hour  arrival_min  \n",
       "0          2019        22       20             1           10  \n",
       "1          2019         5       50            13           15  \n",
       "2          2019         9       25             4           25  \n",
       "3          2019        18        5            23           30  \n",
       "4          2019        16       50            21           35  "
      ]
     },
     "execution_count": 34,
     "metadata": {},
     "output_type": "execute_result"
    }
   ],
   "source": [
    "train_data.head()"
   ]
  },
  {
   "cell_type": "markdown",
   "id": "6927e3b2",
   "metadata": {},
   "source": [
    "### Duration column"
   ]
  },
  {
   "cell_type": "code",
   "execution_count": 35,
   "id": "e544031c",
   "metadata": {
    "scrolled": true
   },
   "outputs": [
    {
     "data": {
      "text/html": [
       "<div>\n",
       "<style scoped>\n",
       "    .dataframe tbody tr th:only-of-type {\n",
       "        vertical-align: middle;\n",
       "    }\n",
       "\n",
       "    .dataframe tbody tr th {\n",
       "        vertical-align: top;\n",
       "    }\n",
       "\n",
       "    .dataframe thead th {\n",
       "        text-align: right;\n",
       "    }\n",
       "</style>\n",
       "<table border=\"1\" class=\"dataframe\">\n",
       "  <thead>\n",
       "    <tr style=\"text-align: right;\">\n",
       "      <th></th>\n",
       "      <th>Duration</th>\n",
       "    </tr>\n",
       "  </thead>\n",
       "  <tbody>\n",
       "    <tr>\n",
       "      <th>0</th>\n",
       "      <td>2h 50m</td>\n",
       "    </tr>\n",
       "    <tr>\n",
       "      <th>1</th>\n",
       "      <td>7h 25m</td>\n",
       "    </tr>\n",
       "    <tr>\n",
       "      <th>2</th>\n",
       "      <td>19h</td>\n",
       "    </tr>\n",
       "    <tr>\n",
       "      <th>3</th>\n",
       "      <td>5h 25m</td>\n",
       "    </tr>\n",
       "    <tr>\n",
       "      <th>4</th>\n",
       "      <td>4h 45m</td>\n",
       "    </tr>\n",
       "  </tbody>\n",
       "</table>\n",
       "</div>"
      ],
      "text/plain": [
       "  Duration\n",
       "0   2h 50m\n",
       "1   7h 25m\n",
       "2      19h\n",
       "3   5h 25m\n",
       "4   4h 45m"
      ]
     },
     "execution_count": 35,
     "metadata": {},
     "output_type": "execute_result"
    }
   ],
   "source": [
    "train_data['Duration'].head().to_frame()"
   ]
  },
  {
   "cell_type": "code",
   "execution_count": 36,
   "id": "2c4e2dfc",
   "metadata": {},
   "outputs": [],
   "source": [
    "duration = pd.to_timedelta(train_data['Duration'])"
   ]
  },
  {
   "cell_type": "code",
   "execution_count": 37,
   "id": "2ac1daf9",
   "metadata": {},
   "outputs": [],
   "source": [
    "# Extracting hours from Duration\n",
    "train_data['duration_hour'] = duration.dt.components['hours']"
   ]
  },
  {
   "cell_type": "code",
   "execution_count": 38,
   "id": "fab6740b",
   "metadata": {},
   "outputs": [],
   "source": [
    "# Extracting minutes from Duration\n",
    "train_data['duration_minutes'] = duration.dt.components['minutes']"
   ]
  },
  {
   "cell_type": "code",
   "execution_count": 39,
   "id": "3a6119ef",
   "metadata": {},
   "outputs": [],
   "source": [
    "train_data.drop([\"Duration\"], axis = 1, inplace = True)"
   ]
  },
  {
   "cell_type": "code",
   "execution_count": 40,
   "id": "81f15784",
   "metadata": {},
   "outputs": [
    {
     "data": {
      "text/html": [
       "<div>\n",
       "<style scoped>\n",
       "    .dataframe tbody tr th:only-of-type {\n",
       "        vertical-align: middle;\n",
       "    }\n",
       "\n",
       "    .dataframe tbody tr th {\n",
       "        vertical-align: top;\n",
       "    }\n",
       "\n",
       "    .dataframe thead th {\n",
       "        text-align: right;\n",
       "    }\n",
       "</style>\n",
       "<table border=\"1\" class=\"dataframe\">\n",
       "  <thead>\n",
       "    <tr style=\"text-align: right;\">\n",
       "      <th></th>\n",
       "      <th>Airline</th>\n",
       "      <th>Source</th>\n",
       "      <th>Destination</th>\n",
       "      <th>Route</th>\n",
       "      <th>Total_Stops</th>\n",
       "      <th>Additional_Info</th>\n",
       "      <th>Price</th>\n",
       "      <th>journey_day</th>\n",
       "      <th>journey_month</th>\n",
       "      <th>journey_year</th>\n",
       "      <th>dep_hour</th>\n",
       "      <th>dep_min</th>\n",
       "      <th>arrival_hour</th>\n",
       "      <th>arrival_min</th>\n",
       "      <th>duration_hour</th>\n",
       "      <th>duration_minutes</th>\n",
       "    </tr>\n",
       "  </thead>\n",
       "  <tbody>\n",
       "    <tr>\n",
       "      <th>0</th>\n",
       "      <td>IndiGo</td>\n",
       "      <td>Banglore</td>\n",
       "      <td>New Delhi</td>\n",
       "      <td>BLR → DEL</td>\n",
       "      <td>non-stop</td>\n",
       "      <td>No info</td>\n",
       "      <td>3897</td>\n",
       "      <td>24</td>\n",
       "      <td>3</td>\n",
       "      <td>2019</td>\n",
       "      <td>22</td>\n",
       "      <td>20</td>\n",
       "      <td>1</td>\n",
       "      <td>10</td>\n",
       "      <td>2</td>\n",
       "      <td>50</td>\n",
       "    </tr>\n",
       "    <tr>\n",
       "      <th>1</th>\n",
       "      <td>Air India</td>\n",
       "      <td>Kolkata</td>\n",
       "      <td>Banglore</td>\n",
       "      <td>CCU → IXR → BBI → BLR</td>\n",
       "      <td>2 stops</td>\n",
       "      <td>No info</td>\n",
       "      <td>7662</td>\n",
       "      <td>1</td>\n",
       "      <td>5</td>\n",
       "      <td>2019</td>\n",
       "      <td>5</td>\n",
       "      <td>50</td>\n",
       "      <td>13</td>\n",
       "      <td>15</td>\n",
       "      <td>7</td>\n",
       "      <td>25</td>\n",
       "    </tr>\n",
       "    <tr>\n",
       "      <th>2</th>\n",
       "      <td>Jet Airways</td>\n",
       "      <td>Delhi</td>\n",
       "      <td>Cochin</td>\n",
       "      <td>DEL → LKO → BOM → COK</td>\n",
       "      <td>2 stops</td>\n",
       "      <td>No info</td>\n",
       "      <td>13882</td>\n",
       "      <td>9</td>\n",
       "      <td>6</td>\n",
       "      <td>2019</td>\n",
       "      <td>9</td>\n",
       "      <td>25</td>\n",
       "      <td>4</td>\n",
       "      <td>25</td>\n",
       "      <td>19</td>\n",
       "      <td>0</td>\n",
       "    </tr>\n",
       "    <tr>\n",
       "      <th>3</th>\n",
       "      <td>IndiGo</td>\n",
       "      <td>Kolkata</td>\n",
       "      <td>Banglore</td>\n",
       "      <td>CCU → NAG → BLR</td>\n",
       "      <td>1 stop</td>\n",
       "      <td>No info</td>\n",
       "      <td>6218</td>\n",
       "      <td>12</td>\n",
       "      <td>5</td>\n",
       "      <td>2019</td>\n",
       "      <td>18</td>\n",
       "      <td>5</td>\n",
       "      <td>23</td>\n",
       "      <td>30</td>\n",
       "      <td>5</td>\n",
       "      <td>25</td>\n",
       "    </tr>\n",
       "    <tr>\n",
       "      <th>4</th>\n",
       "      <td>IndiGo</td>\n",
       "      <td>Banglore</td>\n",
       "      <td>New Delhi</td>\n",
       "      <td>BLR → NAG → DEL</td>\n",
       "      <td>1 stop</td>\n",
       "      <td>No info</td>\n",
       "      <td>13302</td>\n",
       "      <td>1</td>\n",
       "      <td>3</td>\n",
       "      <td>2019</td>\n",
       "      <td>16</td>\n",
       "      <td>50</td>\n",
       "      <td>21</td>\n",
       "      <td>35</td>\n",
       "      <td>4</td>\n",
       "      <td>45</td>\n",
       "    </tr>\n",
       "  </tbody>\n",
       "</table>\n",
       "</div>"
      ],
      "text/plain": [
       "       Airline    Source Destination                  Route Total_Stops  \\\n",
       "0       IndiGo  Banglore   New Delhi              BLR → DEL    non-stop   \n",
       "1    Air India   Kolkata    Banglore  CCU → IXR → BBI → BLR     2 stops   \n",
       "2  Jet Airways     Delhi      Cochin  DEL → LKO → BOM → COK     2 stops   \n",
       "3       IndiGo   Kolkata    Banglore        CCU → NAG → BLR      1 stop   \n",
       "4       IndiGo  Banglore   New Delhi        BLR → NAG → DEL      1 stop   \n",
       "\n",
       "  Additional_Info  Price  journey_day  journey_month  journey_year  dep_hour  \\\n",
       "0         No info   3897           24              3          2019        22   \n",
       "1         No info   7662            1              5          2019         5   \n",
       "2         No info  13882            9              6          2019         9   \n",
       "3         No info   6218           12              5          2019        18   \n",
       "4         No info  13302            1              3          2019        16   \n",
       "\n",
       "   dep_min  arrival_hour  arrival_min  duration_hour  duration_minutes  \n",
       "0       20             1           10              2                50  \n",
       "1       50            13           15              7                25  \n",
       "2       25             4           25             19                 0  \n",
       "3        5            23           30              5                25  \n",
       "4       50            21           35              4                45  "
      ]
     },
     "execution_count": 40,
     "metadata": {},
     "output_type": "execute_result"
    }
   ],
   "source": [
    "train_data.head()"
   ]
  },
  {
   "cell_type": "code",
   "execution_count": 41,
   "id": "babd71bc",
   "metadata": {},
   "outputs": [
    {
     "name": "stdout",
     "output_type": "stream",
     "text": [
      "<class 'pandas.core.frame.DataFrame'>\n",
      "Int64Index: 10462 entries, 0 to 10682\n",
      "Data columns (total 16 columns):\n",
      " #   Column            Non-Null Count  Dtype \n",
      "---  ------            --------------  ----- \n",
      " 0   Airline           10462 non-null  object\n",
      " 1   Source            10462 non-null  object\n",
      " 2   Destination       10462 non-null  object\n",
      " 3   Route             10462 non-null  object\n",
      " 4   Total_Stops       10462 non-null  object\n",
      " 5   Additional_Info   10462 non-null  object\n",
      " 6   Price             10462 non-null  int64 \n",
      " 7   journey_day       10462 non-null  int64 \n",
      " 8   journey_month     10462 non-null  int64 \n",
      " 9   journey_year      10462 non-null  int64 \n",
      " 10  dep_hour          10462 non-null  int64 \n",
      " 11  dep_min           10462 non-null  int64 \n",
      " 12  arrival_hour      10462 non-null  int64 \n",
      " 13  arrival_min       10462 non-null  int64 \n",
      " 14  duration_hour     10462 non-null  int64 \n",
      " 15  duration_minutes  10462 non-null  int64 \n",
      "dtypes: int64(10), object(6)\n",
      "memory usage: 1.4+ MB\n"
     ]
    }
   ],
   "source": [
    "train_data.info()"
   ]
  },
  {
   "cell_type": "markdown",
   "id": "b9c8c203",
   "metadata": {},
   "source": [
    "## Handling Categorical Data"
   ]
  },
  {
   "cell_type": "markdown",
   "id": "2f9d693d",
   "metadata": {},
   "source": [
    "`Airline`, `Source`, `Destination`, `Route`, `Total_Stops` and `Additional_Info` are object datatype."
   ]
  },
  {
   "cell_type": "markdown",
   "id": "387dc5e8",
   "metadata": {},
   "source": [
    "### Airline column"
   ]
  },
  {
   "cell_type": "code",
   "execution_count": 42,
   "id": "852a0af3",
   "metadata": {},
   "outputs": [
    {
     "data": {
      "text/plain": [
       "Jet Airways                          3700\n",
       "IndiGo                               2043\n",
       "Air India                            1694\n",
       "Multiple carriers                    1196\n",
       "SpiceJet                              815\n",
       "Vistara                               478\n",
       "Air Asia                              319\n",
       "GoAir                                 194\n",
       "Multiple carriers Premium economy      13\n",
       "Jet Airways Business                    6\n",
       "Vistara Premium economy                 3\n",
       "Trujet                                  1\n",
       "Name: Airline, dtype: int64"
      ]
     },
     "execution_count": 42,
     "metadata": {},
     "output_type": "execute_result"
    }
   ],
   "source": [
    "Airline  = train_data[\"Airline\"].value_counts()\n",
    "Airline"
   ]
  },
  {
   "cell_type": "code",
   "execution_count": 43,
   "id": "72ec6ee4",
   "metadata": {},
   "outputs": [
    {
     "data": {
      "text/plain": [
       "Jet Airways          3700\n",
       "IndiGo               2043\n",
       "Air India            1694\n",
       "Multiple carriers    1196\n",
       "SpiceJet              815\n",
       "Vistara               478\n",
       "Air Asia              319\n",
       "Name: Airline, dtype: int64"
      ]
     },
     "execution_count": 43,
     "metadata": {},
     "output_type": "execute_result"
    }
   ],
   "source": [
    "Airline_morethan200 = Airline[Airline>200]\n",
    "Airline_morethan200"
   ]
  },
  {
   "cell_type": "code",
   "execution_count": 44,
   "id": "f68d68f3",
   "metadata": {},
   "outputs": [],
   "source": [
    "def handle_Airline(value):\n",
    "    if(value in Airline_morethan200):\n",
    "        return value\n",
    "    else:\n",
    "        return 'Others'"
   ]
  },
  {
   "cell_type": "code",
   "execution_count": 45,
   "id": "5fb613fb",
   "metadata": {},
   "outputs": [],
   "source": [
    "train_data['Airline'] = train_data['Airline'].apply(handle_Airline)"
   ]
  },
  {
   "cell_type": "code",
   "execution_count": 46,
   "id": "6062e238",
   "metadata": {
    "scrolled": true
   },
   "outputs": [
    {
     "data": {
      "text/plain": [
       "Jet Airways          3700\n",
       "IndiGo               2043\n",
       "Air India            1694\n",
       "Multiple carriers    1196\n",
       "SpiceJet              815\n",
       "Vistara               478\n",
       "Air Asia              319\n",
       "Others                217\n",
       "Name: Airline, dtype: int64"
      ]
     },
     "execution_count": 46,
     "metadata": {},
     "output_type": "execute_result"
    }
   ],
   "source": [
    "train_data['Airline'].value_counts()"
   ]
  },
  {
   "cell_type": "markdown",
   "id": "37a3b81f",
   "metadata": {},
   "source": [
    "### Source column"
   ]
  },
  {
   "cell_type": "code",
   "execution_count": 47,
   "id": "419bd420",
   "metadata": {},
   "outputs": [
    {
     "data": {
      "text/plain": [
       "Delhi       4345\n",
       "Kolkata     2860\n",
       "Banglore    2179\n",
       "Mumbai       697\n",
       "Chennai      381\n",
       "Name: Source, dtype: int64"
      ]
     },
     "execution_count": 47,
     "metadata": {},
     "output_type": "execute_result"
    }
   ],
   "source": [
    "train_data['Source'].value_counts()"
   ]
  },
  {
   "cell_type": "markdown",
   "id": "c3075057",
   "metadata": {},
   "source": [
    "### Destination column"
   ]
  },
  {
   "cell_type": "code",
   "execution_count": 48,
   "id": "e8b17ac1",
   "metadata": {
    "scrolled": true
   },
   "outputs": [
    {
     "data": {
      "text/plain": [
       "Cochin       4345\n",
       "Banglore     2860\n",
       "Delhi        1265\n",
       "New Delhi     914\n",
       "Hyderabad     697\n",
       "Kolkata       381\n",
       "Name: Destination, dtype: int64"
      ]
     },
     "execution_count": 48,
     "metadata": {},
     "output_type": "execute_result"
    }
   ],
   "source": [
    "train_data['Destination'].value_counts()"
   ]
  },
  {
   "cell_type": "code",
   "execution_count": 49,
   "id": "64d6b17b",
   "metadata": {},
   "outputs": [],
   "source": [
    "train_data['Destination'] = train_data['Destination'].replace({'New Delhi':'Delhi'})"
   ]
  },
  {
   "cell_type": "code",
   "execution_count": 50,
   "id": "6cd960cb",
   "metadata": {},
   "outputs": [
    {
     "name": "stdout",
     "output_type": "stream",
     "text": [
      "Modified Categories:\n",
      "Cochin       4345\n",
      "Banglore     2860\n",
      "Delhi        2179\n",
      "Hyderabad     697\n",
      "Kolkata       381\n",
      "Name: Destination, dtype: int64\n"
     ]
    }
   ],
   "source": [
    "print('Modified Categories:')\n",
    "print(train_data['Destination'].value_counts())"
   ]
  },
  {
   "cell_type": "markdown",
   "id": "3d3c0f30",
   "metadata": {},
   "source": [
    "### Total_Stops column"
   ]
  },
  {
   "cell_type": "code",
   "execution_count": 51,
   "id": "49e43aaa",
   "metadata": {
    "scrolled": true
   },
   "outputs": [
    {
     "data": {
      "text/plain": [
       "1 stop      5625\n",
       "non-stop    3475\n",
       "2 stops     1318\n",
       "3 stops       43\n",
       "4 stops        1\n",
       "Name: Total_Stops, dtype: int64"
      ]
     },
     "execution_count": 51,
     "metadata": {},
     "output_type": "execute_result"
    }
   ],
   "source": [
    "train_data['Total_Stops'].value_counts()"
   ]
  },
  {
   "cell_type": "code",
   "execution_count": 52,
   "id": "c93f44be",
   "metadata": {},
   "outputs": [
    {
     "data": {
      "text/plain": [
       "array(['non-stop', '2 stops', '1 stop', '3 stops', '4 stops'],\n",
       "      dtype=object)"
      ]
     },
     "execution_count": 52,
     "metadata": {},
     "output_type": "execute_result"
    }
   ],
   "source": [
    "train_data['Total_Stops'].unique()"
   ]
  },
  {
   "cell_type": "code",
   "execution_count": 53,
   "id": "b6374e33",
   "metadata": {},
   "outputs": [],
   "source": [
    "train_data['Total_Stops'] = train_data['Total_Stops'].map({'non-stop':0,'1 stop':1,'nan':1, '2 stops':2,'3 stops':3,'4 stops':4})"
   ]
  },
  {
   "cell_type": "code",
   "execution_count": 54,
   "id": "fd4483e5",
   "metadata": {},
   "outputs": [
    {
     "data": {
      "text/plain": [
       "1    5625\n",
       "0    3475\n",
       "2    1318\n",
       "3      43\n",
       "4       1\n",
       "Name: Total_Stops, dtype: int64"
      ]
     },
     "execution_count": 54,
     "metadata": {},
     "output_type": "execute_result"
    }
   ],
   "source": [
    "train_data['Total_Stops'].value_counts()"
   ]
  },
  {
   "cell_type": "markdown",
   "id": "3808ac50",
   "metadata": {},
   "source": [
    "### Route and Additional_Info columns"
   ]
  },
  {
   "cell_type": "code",
   "execution_count": 55,
   "id": "e2edfdef",
   "metadata": {
    "scrolled": false
   },
   "outputs": [
    {
     "data": {
      "text/plain": [
       "128"
      ]
     },
     "execution_count": 55,
     "metadata": {},
     "output_type": "execute_result"
    }
   ],
   "source": [
    "train_data['Route'].nunique()"
   ]
  },
  {
   "cell_type": "code",
   "execution_count": 56,
   "id": "8f2206f2",
   "metadata": {},
   "outputs": [
    {
     "data": {
      "text/plain": [
       "array(['BLR → DEL', 'CCU → IXR → BBI → BLR', 'DEL → LKO → BOM → COK',\n",
       "       'CCU → NAG → BLR', 'BLR → NAG → DEL', 'CCU → BLR',\n",
       "       'BLR → BOM → DEL', 'DEL → BOM → COK', 'DEL → BLR → COK',\n",
       "       'MAA → CCU', 'CCU → BOM → BLR', 'DEL → AMD → BOM → COK',\n",
       "       'DEL → PNQ → COK', 'DEL → CCU → BOM → COK', 'BLR → COK → DEL',\n",
       "       'DEL → IDR → BOM → COK', 'DEL → LKO → COK',\n",
       "       'CCU → GAU → DEL → BLR', 'DEL → NAG → BOM → COK',\n",
       "       'CCU → MAA → BLR', 'DEL → HYD → COK', 'CCU → HYD → BLR',\n",
       "       'DEL → COK', 'CCU → DEL → BLR', 'BLR → BOM → AMD → DEL',\n",
       "       'BOM → DEL → HYD', 'DEL → MAA → COK', 'BOM → HYD',\n",
       "       'DEL → BHO → BOM → COK', 'DEL → JAI → BOM → COK',\n",
       "       'DEL → ATQ → BOM → COK', 'DEL → JDH → BOM → COK',\n",
       "       'CCU → BBI → BOM → BLR', 'BLR → MAA → DEL',\n",
       "       'DEL → GOI → BOM → COK', 'DEL → BDQ → BOM → COK',\n",
       "       'CCU → JAI → BOM → BLR', 'CCU → BBI → BLR', 'BLR → HYD → DEL',\n",
       "       'DEL → TRV → COK', 'CCU → IXR → DEL → BLR',\n",
       "       'DEL → IXU → BOM → COK', 'CCU → IXB → BLR',\n",
       "       'BLR → BOM → JDH → DEL', 'DEL → UDR → BOM → COK',\n",
       "       'DEL → HYD → MAA → COK', 'CCU → BOM → COK → BLR',\n",
       "       'BLR → CCU → DEL', 'CCU → BOM → GOI → BLR',\n",
       "       'DEL → RPR → NAG → BOM → COK', 'DEL → HYD → BOM → COK',\n",
       "       'CCU → DEL → AMD → BLR', 'CCU → PNQ → BLR',\n",
       "       'BLR → CCU → GAU → DEL', 'CCU → DEL → COK → BLR',\n",
       "       'BLR → PNQ → DEL', 'BOM → JDH → DEL → HYD',\n",
       "       'BLR → BOM → BHO → DEL', 'DEL → AMD → COK', 'BLR → LKO → DEL',\n",
       "       'CCU → GAU → BLR', 'BOM → GOI → HYD', 'CCU → BOM → AMD → BLR',\n",
       "       'CCU → BBI → IXR → DEL → BLR', 'DEL → DED → BOM → COK',\n",
       "       'DEL → MAA → BOM → COK', 'BLR → AMD → DEL', 'BLR → VGA → DEL',\n",
       "       'CCU → JAI → DEL → BLR', 'CCU → AMD → BLR',\n",
       "       'CCU → VNS → DEL → BLR', 'BLR → BOM → IDR → DEL',\n",
       "       'BLR → BBI → DEL', 'BLR → GOI → DEL', 'BOM → AMD → ISK → HYD',\n",
       "       'BOM → DED → DEL → HYD', 'DEL → IXC → BOM → COK',\n",
       "       'CCU → PAT → BLR', 'BLR → CCU → BBI → DEL',\n",
       "       'CCU → BBI → HYD → BLR', 'BLR → BOM → NAG → DEL',\n",
       "       'BLR → CCU → BBI → HYD → DEL', 'BLR → GAU → DEL',\n",
       "       'BOM → BHO → DEL → HYD', 'BOM → JLR → HYD',\n",
       "       'BLR → HYD → VGA → DEL', 'CCU → KNU → BLR',\n",
       "       'CCU → BOM → PNQ → BLR', 'DEL → BBI → COK',\n",
       "       'BLR → VGA → HYD → DEL', 'BOM → JDH → JAI → DEL → HYD',\n",
       "       'DEL → GWL → IDR → BOM → COK', 'CCU → RPR → HYD → BLR',\n",
       "       'CCU → VTZ → BLR', 'CCU → DEL → VGA → BLR',\n",
       "       'BLR → BOM → IDR → GWL → DEL', 'CCU → DEL → COK → TRV → BLR',\n",
       "       'BOM → COK → MAA → HYD', 'BOM → NDC → HYD', 'BLR → BDQ → DEL',\n",
       "       'CCU → BOM → TRV → BLR', 'CCU → BOM → HBX → BLR',\n",
       "       'BOM → BDQ → DEL → HYD', 'BOM → CCU → HYD',\n",
       "       'BLR → TRV → COK → DEL', 'BLR → IDR → DEL',\n",
       "       'CCU → IXZ → MAA → BLR', 'CCU → GAU → IMF → DEL → BLR',\n",
       "       'BOM → GOI → PNQ → HYD', 'BOM → BLR → CCU → BBI → HYD',\n",
       "       'BOM → MAA → HYD', 'BLR → BOM → UDR → DEL',\n",
       "       'BOM → UDR → DEL → HYD', 'BLR → VGA → VTZ → DEL',\n",
       "       'BLR → HBX → BOM → BHO → DEL', 'CCU → IXA → BLR',\n",
       "       'BOM → RPR → VTZ → HYD', 'BLR → HBX → BOM → AMD → DEL',\n",
       "       'BOM → IDR → DEL → HYD', 'BOM → BLR → HYD', 'BLR → STV → DEL',\n",
       "       'CCU → IXB → DEL → BLR', 'BOM → JAI → DEL → HYD',\n",
       "       'BOM → VNS → DEL → HYD', 'BLR → HBX → BOM → NAG → DEL',\n",
       "       'BLR → BOM → IXC → DEL', 'BLR → CCU → BBI → HYD → VGA → DEL',\n",
       "       'BOM → BBI → HYD'], dtype=object)"
      ]
     },
     "execution_count": 56,
     "metadata": {},
     "output_type": "execute_result"
    }
   ],
   "source": [
    "train_data['Route'].unique()"
   ]
  },
  {
   "cell_type": "code",
   "execution_count": 57,
   "id": "41c5eea6",
   "metadata": {},
   "outputs": [],
   "source": [
    "train_data.drop('Route',axis=1,inplace=True)"
   ]
  },
  {
   "cell_type": "markdown",
   "id": "c1e3c183",
   "metadata": {},
   "source": [
    "`Route` and `Total_Stops` are similar. so drop the `Route` column"
   ]
  },
  {
   "cell_type": "code",
   "execution_count": 58,
   "id": "71d65fa9",
   "metadata": {
    "scrolled": true
   },
   "outputs": [
    {
     "data": {
      "text/plain": [
       "No info                         8182\n",
       "In-flight meal not included     1926\n",
       "No check-in baggage included     318\n",
       "1 Long layover                    19\n",
       "Change airports                    7\n",
       "Business class                     4\n",
       "No Info                            3\n",
       "1 Short layover                    1\n",
       "Red-eye flight                     1\n",
       "2 Long layover                     1\n",
       "Name: Additional_Info, dtype: int64"
      ]
     },
     "execution_count": 58,
     "metadata": {},
     "output_type": "execute_result"
    }
   ],
   "source": [
    "additional_info = train_data['Additional_Info'].value_counts()\n",
    "additional_info"
   ]
  },
  {
   "cell_type": "code",
   "execution_count": 59,
   "id": "e4a70b52",
   "metadata": {},
   "outputs": [
    {
     "data": {
      "text/plain": [
       "No info                        8182\n",
       "In-flight meal not included    1926\n",
       "Name: Additional_Info, dtype: int64"
      ]
     },
     "execution_count": 59,
     "metadata": {},
     "output_type": "execute_result"
    }
   ],
   "source": [
    "common_info = additional_info[additional_info>1500]\n",
    "common_info"
   ]
  },
  {
   "cell_type": "code",
   "execution_count": 60,
   "id": "b5e726a2",
   "metadata": {},
   "outputs": [],
   "source": [
    "def handle_info(value):\n",
    "    if(value in common_info):\n",
    "        return value\n",
    "    else:\n",
    "        return 'Others'"
   ]
  },
  {
   "cell_type": "code",
   "execution_count": 61,
   "id": "29f63969",
   "metadata": {},
   "outputs": [],
   "source": [
    "train_data['Additional_Info'] = train_data['Additional_Info'].apply(handle_info)"
   ]
  },
  {
   "cell_type": "code",
   "execution_count": 62,
   "id": "7774710f",
   "metadata": {
    "scrolled": true
   },
   "outputs": [
    {
     "data": {
      "text/plain": [
       "No info                        8182\n",
       "In-flight meal not included    1926\n",
       "Others                          354\n",
       "Name: Additional_Info, dtype: int64"
      ]
     },
     "execution_count": 62,
     "metadata": {},
     "output_type": "execute_result"
    }
   ],
   "source": [
    "train_data['Additional_Info'].value_counts()"
   ]
  },
  {
   "cell_type": "code",
   "execution_count": 63,
   "id": "116c2377",
   "metadata": {},
   "outputs": [
    {
     "name": "stdout",
     "output_type": "stream",
     "text": [
      "<class 'pandas.core.frame.DataFrame'>\n",
      "Int64Index: 10462 entries, 0 to 10682\n",
      "Data columns (total 15 columns):\n",
      " #   Column            Non-Null Count  Dtype \n",
      "---  ------            --------------  ----- \n",
      " 0   Airline           10462 non-null  object\n",
      " 1   Source            10462 non-null  object\n",
      " 2   Destination       10462 non-null  object\n",
      " 3   Total_Stops       10462 non-null  int64 \n",
      " 4   Additional_Info   10462 non-null  object\n",
      " 5   Price             10462 non-null  int64 \n",
      " 6   journey_day       10462 non-null  int64 \n",
      " 7   journey_month     10462 non-null  int64 \n",
      " 8   journey_year      10462 non-null  int64 \n",
      " 9   dep_hour          10462 non-null  int64 \n",
      " 10  dep_min           10462 non-null  int64 \n",
      " 11  arrival_hour      10462 non-null  int64 \n",
      " 12  arrival_min       10462 non-null  int64 \n",
      " 13  duration_hour     10462 non-null  int64 \n",
      " 14  duration_minutes  10462 non-null  int64 \n",
      "dtypes: int64(11), object(4)\n",
      "memory usage: 1.3+ MB\n"
     ]
    }
   ],
   "source": [
    "train_data.info()"
   ]
  },
  {
   "cell_type": "markdown",
   "id": "cfe8eb5c",
   "metadata": {},
   "source": [
    "## Data Visualizations"
   ]
  },
  {
   "cell_type": "code",
   "execution_count": 64,
   "id": "b7e3bef9",
   "metadata": {},
   "outputs": [
    {
     "data": {
      "text/plain": [
       "Index(['Airline', 'Source', 'Destination', 'Total_Stops', 'Additional_Info',\n",
       "       'Price', 'journey_day', 'journey_month', 'journey_year', 'dep_hour',\n",
       "       'dep_min', 'arrival_hour', 'arrival_min', 'duration_hour',\n",
       "       'duration_minutes'],\n",
       "      dtype='object')"
      ]
     },
     "execution_count": 64,
     "metadata": {},
     "output_type": "execute_result"
    }
   ],
   "source": [
    "train_data.columns"
   ]
  },
  {
   "cell_type": "code",
   "execution_count": 65,
   "id": "1633a0dd",
   "metadata": {
    "scrolled": true
   },
   "outputs": [
    {
     "data": {
      "image/png": "[encoded data removed]",
      "text/plain": [
       "<Figure size 1728x576 with 1 Axes>"
      ]
     },
     "metadata": {
      "needs_background": "light"
     },
     "output_type": "display_data"
    }
   ],
   "source": [
    "#Plotting Price vs Airline plot\n",
    "sns.catplot(y = \"Price\", x = \"Airline\", data = train_data.sort_values(\"Price\", ascending = False), kind=\"boxen\", height = 8, aspect = 3)\n",
    "plt.show()"
   ]
  },
  {
   "cell_type": "code",
   "execution_count": 66,
   "id": "6e116a18",
   "metadata": {},
   "outputs": [
    {
     "data": {
      "image/png": "[encoded data removed]",
      "text/plain": [
       "<Figure size 864x288 with 1 Axes>"
      ]
     },
     "metadata": {
      "needs_background": "light"
     },
     "output_type": "display_data"
    }
   ],
   "source": [
    "#plot Price vs Source\n",
    "sns.catplot(y = \"Price\", x = \"Source\", data = train_data.sort_values(\"Price\", ascending = False), kind=\"violin\", height = 4, aspect = 3)\n",
    "plt.show()"
   ]
  },
  {
   "cell_type": "code",
   "execution_count": 67,
   "id": "de14a531",
   "metadata": {},
   "outputs": [
    {
     "data": {
      "image/png": "[encoded data removed]",
      "text/plain": [
       "<Figure size 864x288 with 1 Axes>"
      ]
     },
     "metadata": {
      "needs_background": "light"
     },
     "output_type": "display_data"
    }
   ],
   "source": [
    "#plot Price vs Destination\n",
    "sns.catplot(y = \"Price\", x = \"Destination\", data = train_data.sort_values(\"Price\", ascending = False), kind=\"box\", height = 4, aspect = 3)\n",
    "plt.show()"
   ]
  },
  {
   "cell_type": "markdown",
   "id": "00fb47dc",
   "metadata": {},
   "source": [
    "## Split the data into training and testing"
   ]
  },
  {
   "cell_type": "code",
   "execution_count": 68,
   "id": "82ac4c0c",
   "metadata": {},
   "outputs": [],
   "source": [
    "from sklearn.model_selection import train_test_split"
   ]
  },
  {
   "cell_type": "code",
   "execution_count": 69,
   "id": "ddb2dcbd",
   "metadata": {},
   "outputs": [],
   "source": [
    "train_df, test_df = train_test_split(train_data, test_size=0.33, random_state=0)"
   ]
  },
  {
   "cell_type": "code",
   "execution_count": 70,
   "id": "621e5fd1",
   "metadata": {},
   "outputs": [
    {
     "name": "stdout",
     "output_type": "stream",
     "text": [
      "train_df.shape : (7009, 15)\n",
      "test_df.shape : (3453, 15)\n"
     ]
    }
   ],
   "source": [
    "print('train_df.shape :', train_df.shape)\n",
    "print('test_df.shape :', test_df.shape)"
   ]
  },
  {
   "cell_type": "markdown",
   "id": "a1bf73fb",
   "metadata": {},
   "source": [
    "## Split the data into dependent and independent variables"
   ]
  },
  {
   "cell_type": "code",
   "execution_count": 71,
   "id": "7b393b98",
   "metadata": {
    "scrolled": false
   },
   "outputs": [
    {
     "data": {
      "text/plain": [
       "Index(['Airline', 'Source', 'Destination', 'Total_Stops', 'Additional_Info',\n",
       "       'Price', 'journey_day', 'journey_month', 'journey_year', 'dep_hour',\n",
       "       'dep_min', 'arrival_hour', 'arrival_min', 'duration_hour',\n",
       "       'duration_minutes'],\n",
       "      dtype='object')"
      ]
     },
     "execution_count": 71,
     "metadata": {},
     "output_type": "execute_result"
    }
   ],
   "source": [
    "train_df.columns"
   ]
  },
  {
   "cell_type": "code",
   "execution_count": 72,
   "id": "a7f9de6a",
   "metadata": {},
   "outputs": [],
   "source": [
    "X_column= list(train_df.iloc[:,[0,1,2,3,4,6,7,8,9,10,11,12,13,14]])\n",
    "y_column = 'Price'"
   ]
  },
  {
   "cell_type": "code",
   "execution_count": 73,
   "id": "bb6a4ccd",
   "metadata": {},
   "outputs": [
    {
     "data": {
      "text/plain": [
       "['Airline',\n",
       " 'Source',\n",
       " 'Destination',\n",
       " 'Total_Stops',\n",
       " 'Additional_Info',\n",
       " 'journey_day',\n",
       " 'journey_month',\n",
       " 'journey_year',\n",
       " 'dep_hour',\n",
       " 'dep_min',\n",
       " 'arrival_hour',\n",
       " 'arrival_min',\n",
       " 'duration_hour',\n",
       " 'duration_minutes']"
      ]
     },
     "execution_count": 73,
     "metadata": {},
     "output_type": "execute_result"
    }
   ],
   "source": [
    "X_column"
   ]
  },
  {
   "cell_type": "code",
   "execution_count": 74,
   "id": "a5f7bdf7",
   "metadata": {},
   "outputs": [
    {
     "data": {
      "text/plain": [
       "'Price'"
      ]
     },
     "execution_count": 74,
     "metadata": {},
     "output_type": "execute_result"
    }
   ],
   "source": [
    "y_column"
   ]
  },
  {
   "cell_type": "code",
   "execution_count": 75,
   "id": "b705025c",
   "metadata": {},
   "outputs": [],
   "source": [
    "x_train = train_df[X_column].copy()\n",
    "y_train = train_df[y_column].copy()"
   ]
  },
  {
   "cell_type": "code",
   "execution_count": 76,
   "id": "92637bc5",
   "metadata": {},
   "outputs": [],
   "source": [
    "x_test = test_df[X_column].copy()\n",
    "y_test = test_df[y_column].copy()"
   ]
  },
  {
   "cell_type": "code",
   "execution_count": 77,
   "id": "22d39e65",
   "metadata": {},
   "outputs": [
    {
     "data": {
      "text/html": [
       "<div>\n",
       "<style scoped>\n",
       "    .dataframe tbody tr th:only-of-type {\n",
       "        vertical-align: middle;\n",
       "    }\n",
       "\n",
       "    .dataframe tbody tr th {\n",
       "        vertical-align: top;\n",
       "    }\n",
       "\n",
       "    .dataframe thead th {\n",
       "        text-align: right;\n",
       "    }\n",
       "</style>\n",
       "<table border=\"1\" class=\"dataframe\">\n",
       "  <thead>\n",
       "    <tr style=\"text-align: right;\">\n",
       "      <th></th>\n",
       "      <th>Airline</th>\n",
       "      <th>Source</th>\n",
       "      <th>Destination</th>\n",
       "      <th>Total_Stops</th>\n",
       "      <th>Additional_Info</th>\n",
       "      <th>journey_day</th>\n",
       "      <th>journey_month</th>\n",
       "      <th>journey_year</th>\n",
       "      <th>dep_hour</th>\n",
       "      <th>dep_min</th>\n",
       "      <th>arrival_hour</th>\n",
       "      <th>arrival_min</th>\n",
       "      <th>duration_hour</th>\n",
       "      <th>duration_minutes</th>\n",
       "    </tr>\n",
       "  </thead>\n",
       "  <tbody>\n",
       "    <tr>\n",
       "      <th>8464</th>\n",
       "      <td>Air India</td>\n",
       "      <td>Kolkata</td>\n",
       "      <td>Banglore</td>\n",
       "      <td>0</td>\n",
       "      <td>No info</td>\n",
       "      <td>18</td>\n",
       "      <td>3</td>\n",
       "      <td>2019</td>\n",
       "      <td>14</td>\n",
       "      <td>15</td>\n",
       "      <td>16</td>\n",
       "      <td>45</td>\n",
       "      <td>2</td>\n",
       "      <td>30</td>\n",
       "    </tr>\n",
       "    <tr>\n",
       "      <th>2037</th>\n",
       "      <td>Vistara</td>\n",
       "      <td>Kolkata</td>\n",
       "      <td>Banglore</td>\n",
       "      <td>1</td>\n",
       "      <td>No info</td>\n",
       "      <td>6</td>\n",
       "      <td>6</td>\n",
       "      <td>2019</td>\n",
       "      <td>7</td>\n",
       "      <td>10</td>\n",
       "      <td>9</td>\n",
       "      <td>5</td>\n",
       "      <td>1</td>\n",
       "      <td>55</td>\n",
       "    </tr>\n",
       "  </tbody>\n",
       "</table>\n",
       "</div>"
      ],
      "text/plain": [
       "        Airline   Source Destination  Total_Stops Additional_Info  \\\n",
       "8464  Air India  Kolkata    Banglore            0         No info   \n",
       "2037    Vistara  Kolkata    Banglore            1         No info   \n",
       "\n",
       "      journey_day  journey_month  journey_year  dep_hour  dep_min  \\\n",
       "8464           18              3          2019        14       15   \n",
       "2037            6              6          2019         7       10   \n",
       "\n",
       "      arrival_hour  arrival_min  duration_hour  duration_minutes  \n",
       "8464            16           45              2                30  \n",
       "2037             9            5              1                55  "
      ]
     },
     "execution_count": 77,
     "metadata": {},
     "output_type": "execute_result"
    }
   ],
   "source": [
    "x_train.head(2)"
   ]
  },
  {
   "cell_type": "code",
   "execution_count": 78,
   "id": "90e55b2b",
   "metadata": {
    "scrolled": true
   },
   "outputs": [
    {
     "data": {
      "text/html": [
       "<div>\n",
       "<style scoped>\n",
       "    .dataframe tbody tr th:only-of-type {\n",
       "        vertical-align: middle;\n",
       "    }\n",
       "\n",
       "    .dataframe tbody tr th {\n",
       "        vertical-align: top;\n",
       "    }\n",
       "\n",
       "    .dataframe thead th {\n",
       "        text-align: right;\n",
       "    }\n",
       "</style>\n",
       "<table border=\"1\" class=\"dataframe\">\n",
       "  <thead>\n",
       "    <tr style=\"text-align: right;\">\n",
       "      <th></th>\n",
       "      <th>Price</th>\n",
       "    </tr>\n",
       "  </thead>\n",
       "  <tbody>\n",
       "    <tr>\n",
       "      <th>8464</th>\n",
       "      <td>5170</td>\n",
       "    </tr>\n",
       "    <tr>\n",
       "      <th>2037</th>\n",
       "      <td>8452</td>\n",
       "    </tr>\n",
       "    <tr>\n",
       "      <th>1923</th>\n",
       "      <td>5644</td>\n",
       "    </tr>\n",
       "    <tr>\n",
       "      <th>5411</th>\n",
       "      <td>14151</td>\n",
       "    </tr>\n",
       "    <tr>\n",
       "      <th>10621</th>\n",
       "      <td>4804</td>\n",
       "    </tr>\n",
       "  </tbody>\n",
       "</table>\n",
       "</div>"
      ],
      "text/plain": [
       "       Price\n",
       "8464    5170\n",
       "2037    8452\n",
       "1923    5644\n",
       "5411   14151\n",
       "10621   4804"
      ]
     },
     "execution_count": 78,
     "metadata": {},
     "output_type": "execute_result"
    }
   ],
   "source": [
    "y_train.head().to_frame()"
   ]
  },
  {
   "cell_type": "code",
   "execution_count": 79,
   "id": "a2275342",
   "metadata": {},
   "outputs": [
    {
     "name": "stdout",
     "output_type": "stream",
     "text": [
      "(7009, 14) (7009,)\n"
     ]
    }
   ],
   "source": [
    "print(x_train.shape, y_train.shape)"
   ]
  },
  {
   "cell_type": "code",
   "execution_count": 80,
   "id": "7b2096eb",
   "metadata": {},
   "outputs": [
    {
     "name": "stdout",
     "output_type": "stream",
     "text": [
      "(3453, 14) (3453,)\n"
     ]
    }
   ],
   "source": [
    "print(x_test.shape, y_test.shape)"
   ]
  },
  {
   "cell_type": "markdown",
   "id": "88b67c8e",
   "metadata": {},
   "source": [
    "## Numerical/categorical data"
   ]
  },
  {
   "cell_type": "code",
   "execution_count": 81,
   "id": "20671362",
   "metadata": {},
   "outputs": [],
   "source": [
    "numeric_columns = x_train.select_dtypes(include=np.number).columns.tolist()"
   ]
  },
  {
   "cell_type": "code",
   "execution_count": 82,
   "id": "329ddd66",
   "metadata": {},
   "outputs": [
    {
     "data": {
      "text/plain": [
       "['Total_Stops',\n",
       " 'journey_day',\n",
       " 'journey_month',\n",
       " 'journey_year',\n",
       " 'dep_hour',\n",
       " 'dep_min',\n",
       " 'arrival_hour',\n",
       " 'arrival_min',\n",
       " 'duration_hour',\n",
       " 'duration_minutes']"
      ]
     },
     "execution_count": 82,
     "metadata": {},
     "output_type": "execute_result"
    }
   ],
   "source": [
    "numeric_columns"
   ]
  },
  {
   "cell_type": "code",
   "execution_count": 83,
   "id": "e8140510",
   "metadata": {},
   "outputs": [],
   "source": [
    "categorical_columns = x_train.select_dtypes(include='object').columns.tolist()"
   ]
  },
  {
   "cell_type": "code",
   "execution_count": 84,
   "id": "e046c4c4",
   "metadata": {},
   "outputs": [
    {
     "data": {
      "text/plain": [
       "['Airline', 'Source', 'Destination', 'Additional_Info']"
      ]
     },
     "execution_count": 84,
     "metadata": {},
     "output_type": "execute_result"
    }
   ],
   "source": [
    "categorical_columns"
   ]
  },
  {
   "cell_type": "markdown",
   "id": "c0ab15cb",
   "metadata": {},
   "source": [
    "### Scale the independent variables"
   ]
  },
  {
   "cell_type": "code",
   "execution_count": 85,
   "id": "a53cfe4e",
   "metadata": {},
   "outputs": [],
   "source": [
    "from sklearn.preprocessing import MinMaxScaler\n",
    "scaler=MinMaxScaler()"
   ]
  },
  {
   "cell_type": "code",
   "execution_count": 86,
   "id": "64dec38e",
   "metadata": {},
   "outputs": [
    {
     "data": {
      "text/plain": [
       "MinMaxScaler()"
      ]
     },
     "execution_count": 86,
     "metadata": {},
     "output_type": "execute_result"
    }
   ],
   "source": [
    "scaler.fit(train_data[numeric_columns])"
   ]
  },
  {
   "cell_type": "code",
   "execution_count": 87,
   "id": "b652c805",
   "metadata": {
    "scrolled": true
   },
   "outputs": [],
   "source": [
    "x_train[numeric_columns] = scaler.transform(x_train[numeric_columns])\n",
    "x_test[numeric_columns] = scaler.transform(x_test[numeric_columns])"
   ]
  },
  {
   "cell_type": "code",
   "execution_count": 88,
   "id": "8d33b99c",
   "metadata": {
    "scrolled": true
   },
   "outputs": [
    {
     "data": {
      "text/html": [
       "<div>\n",
       "<style scoped>\n",
       "    .dataframe tbody tr th:only-of-type {\n",
       "        vertical-align: middle;\n",
       "    }\n",
       "\n",
       "    .dataframe tbody tr th {\n",
       "        vertical-align: top;\n",
       "    }\n",
       "\n",
       "    .dataframe thead th {\n",
       "        text-align: right;\n",
       "    }\n",
       "</style>\n",
       "<table border=\"1\" class=\"dataframe\">\n",
       "  <thead>\n",
       "    <tr style=\"text-align: right;\">\n",
       "      <th></th>\n",
       "      <th>Total_Stops</th>\n",
       "      <th>journey_day</th>\n",
       "      <th>journey_month</th>\n",
       "      <th>journey_year</th>\n",
       "      <th>dep_hour</th>\n",
       "      <th>dep_min</th>\n",
       "      <th>arrival_hour</th>\n",
       "      <th>arrival_min</th>\n",
       "      <th>duration_hour</th>\n",
       "      <th>duration_minutes</th>\n",
       "    </tr>\n",
       "  </thead>\n",
       "  <tbody>\n",
       "    <tr>\n",
       "      <th>count</th>\n",
       "      <td>7009.000000</td>\n",
       "      <td>7009.000000</td>\n",
       "      <td>7009.000000</td>\n",
       "      <td>7009.0</td>\n",
       "      <td>7009.000000</td>\n",
       "      <td>7009.000000</td>\n",
       "      <td>7009.000000</td>\n",
       "      <td>7009.000000</td>\n",
       "      <td>7009.000000</td>\n",
       "      <td>7009.000000</td>\n",
       "    </tr>\n",
       "    <tr>\n",
       "      <th>mean</th>\n",
       "      <td>0.201705</td>\n",
       "      <td>0.478692</td>\n",
       "      <td>0.565701</td>\n",
       "      <td>0.0</td>\n",
       "      <td>0.541589</td>\n",
       "      <td>0.440862</td>\n",
       "      <td>0.579466</td>\n",
       "      <td>0.448073</td>\n",
       "      <td>0.331673</td>\n",
       "      <td>0.512588</td>\n",
       "    </tr>\n",
       "    <tr>\n",
       "      <th>std</th>\n",
       "      <td>0.164669</td>\n",
       "      <td>0.327170</td>\n",
       "      <td>0.387608</td>\n",
       "      <td>0.0</td>\n",
       "      <td>0.250793</td>\n",
       "      <td>0.341842</td>\n",
       "      <td>0.298726</td>\n",
       "      <td>0.301413</td>\n",
       "      <td>0.272633</td>\n",
       "      <td>0.306523</td>\n",
       "    </tr>\n",
       "    <tr>\n",
       "      <th>min</th>\n",
       "      <td>0.000000</td>\n",
       "      <td>0.000000</td>\n",
       "      <td>0.000000</td>\n",
       "      <td>0.0</td>\n",
       "      <td>0.000000</td>\n",
       "      <td>0.000000</td>\n",
       "      <td>0.000000</td>\n",
       "      <td>0.000000</td>\n",
       "      <td>0.000000</td>\n",
       "      <td>0.000000</td>\n",
       "    </tr>\n",
       "    <tr>\n",
       "      <th>25%</th>\n",
       "      <td>0.000000</td>\n",
       "      <td>0.192308</td>\n",
       "      <td>0.000000</td>\n",
       "      <td>0.0</td>\n",
       "      <td>0.304348</td>\n",
       "      <td>0.090909</td>\n",
       "      <td>0.347826</td>\n",
       "      <td>0.181818</td>\n",
       "      <td>0.086957</td>\n",
       "      <td>0.272727</td>\n",
       "    </tr>\n",
       "    <tr>\n",
       "      <th>50%</th>\n",
       "      <td>0.250000</td>\n",
       "      <td>0.423077</td>\n",
       "      <td>0.666667</td>\n",
       "      <td>0.0</td>\n",
       "      <td>0.478261</td>\n",
       "      <td>0.454545</td>\n",
       "      <td>0.565217</td>\n",
       "      <td>0.454545</td>\n",
       "      <td>0.260870</td>\n",
       "      <td>0.545455</td>\n",
       "    </tr>\n",
       "    <tr>\n",
       "      <th>75%</th>\n",
       "      <td>0.250000</td>\n",
       "      <td>0.769231</td>\n",
       "      <td>1.000000</td>\n",
       "      <td>0.0</td>\n",
       "      <td>0.782609</td>\n",
       "      <td>0.727273</td>\n",
       "      <td>0.826087</td>\n",
       "      <td>0.636364</td>\n",
       "      <td>0.521739</td>\n",
       "      <td>0.818182</td>\n",
       "    </tr>\n",
       "    <tr>\n",
       "      <th>max</th>\n",
       "      <td>1.000000</td>\n",
       "      <td>1.000000</td>\n",
       "      <td>1.000000</td>\n",
       "      <td>0.0</td>\n",
       "      <td>1.000000</td>\n",
       "      <td>1.000000</td>\n",
       "      <td>1.000000</td>\n",
       "      <td>1.000000</td>\n",
       "      <td>1.000000</td>\n",
       "      <td>1.000000</td>\n",
       "    </tr>\n",
       "  </tbody>\n",
       "</table>\n",
       "</div>"
      ],
      "text/plain": [
       "       Total_Stops  journey_day  journey_month  journey_year     dep_hour  \\\n",
       "count  7009.000000  7009.000000    7009.000000        7009.0  7009.000000   \n",
       "mean      0.201705     0.478692       0.565701           0.0     0.541589   \n",
       "std       0.164669     0.327170       0.387608           0.0     0.250793   \n",
       "min       0.000000     0.000000       0.000000           0.0     0.000000   \n",
       "25%       0.000000     0.192308       0.000000           0.0     0.304348   \n",
       "50%       0.250000     0.423077       0.666667           0.0     0.478261   \n",
       "75%       0.250000     0.769231       1.000000           0.0     0.782609   \n",
       "max       1.000000     1.000000       1.000000           0.0     1.000000   \n",
       "\n",
       "           dep_min  arrival_hour  arrival_min  duration_hour  duration_minutes  \n",
       "count  7009.000000   7009.000000  7009.000000    7009.000000       7009.000000  \n",
       "mean      0.440862      0.579466     0.448073       0.331673          0.512588  \n",
       "std       0.341842      0.298726     0.301413       0.272633          0.306523  \n",
       "min       0.000000      0.000000     0.000000       0.000000          0.000000  \n",
       "25%       0.090909      0.347826     0.181818       0.086957          0.272727  \n",
       "50%       0.454545      0.565217     0.454545       0.260870          0.545455  \n",
       "75%       0.727273      0.826087     0.636364       0.521739          0.818182  \n",
       "max       1.000000      1.000000     1.000000       1.000000          1.000000  "
      ]
     },
     "execution_count": 88,
     "metadata": {},
     "output_type": "execute_result"
    }
   ],
   "source": [
    "x_train[numeric_columns].describe()"
   ]
  },
  {
   "cell_type": "code",
   "execution_count": 89,
   "id": "ae5956fa",
   "metadata": {},
   "outputs": [
    {
     "data": {
      "text/html": [
       "<div>\n",
       "<style scoped>\n",
       "    .dataframe tbody tr th:only-of-type {\n",
       "        vertical-align: middle;\n",
       "    }\n",
       "\n",
       "    .dataframe tbody tr th {\n",
       "        vertical-align: top;\n",
       "    }\n",
       "\n",
       "    .dataframe thead th {\n",
       "        text-align: right;\n",
       "    }\n",
       "</style>\n",
       "<table border=\"1\" class=\"dataframe\">\n",
       "  <thead>\n",
       "    <tr style=\"text-align: right;\">\n",
       "      <th></th>\n",
       "      <th>Airline</th>\n",
       "      <th>Source</th>\n",
       "      <th>Destination</th>\n",
       "      <th>Total_Stops</th>\n",
       "      <th>Additional_Info</th>\n",
       "      <th>journey_day</th>\n",
       "      <th>journey_month</th>\n",
       "      <th>journey_year</th>\n",
       "      <th>dep_hour</th>\n",
       "      <th>dep_min</th>\n",
       "      <th>arrival_hour</th>\n",
       "      <th>arrival_min</th>\n",
       "      <th>duration_hour</th>\n",
       "      <th>duration_minutes</th>\n",
       "    </tr>\n",
       "  </thead>\n",
       "  <tbody>\n",
       "    <tr>\n",
       "      <th>8464</th>\n",
       "      <td>Air India</td>\n",
       "      <td>Kolkata</td>\n",
       "      <td>Banglore</td>\n",
       "      <td>0.00</td>\n",
       "      <td>No info</td>\n",
       "      <td>0.653846</td>\n",
       "      <td>0.0</td>\n",
       "      <td>0.0</td>\n",
       "      <td>0.608696</td>\n",
       "      <td>0.272727</td>\n",
       "      <td>0.695652</td>\n",
       "      <td>0.818182</td>\n",
       "      <td>0.086957</td>\n",
       "      <td>0.545455</td>\n",
       "    </tr>\n",
       "    <tr>\n",
       "      <th>2037</th>\n",
       "      <td>Vistara</td>\n",
       "      <td>Kolkata</td>\n",
       "      <td>Banglore</td>\n",
       "      <td>0.25</td>\n",
       "      <td>No info</td>\n",
       "      <td>0.192308</td>\n",
       "      <td>1.0</td>\n",
       "      <td>0.0</td>\n",
       "      <td>0.304348</td>\n",
       "      <td>0.181818</td>\n",
       "      <td>0.391304</td>\n",
       "      <td>0.090909</td>\n",
       "      <td>0.043478</td>\n",
       "      <td>1.000000</td>\n",
       "    </tr>\n",
       "  </tbody>\n",
       "</table>\n",
       "</div>"
      ],
      "text/plain": [
       "        Airline   Source Destination  Total_Stops Additional_Info  \\\n",
       "8464  Air India  Kolkata    Banglore         0.00         No info   \n",
       "2037    Vistara  Kolkata    Banglore         0.25         No info   \n",
       "\n",
       "      journey_day  journey_month  journey_year  dep_hour   dep_min  \\\n",
       "8464     0.653846            0.0           0.0  0.608696  0.272727   \n",
       "2037     0.192308            1.0           0.0  0.304348  0.181818   \n",
       "\n",
       "      arrival_hour  arrival_min  duration_hour  duration_minutes  \n",
       "8464      0.695652     0.818182       0.086957          0.545455  \n",
       "2037      0.391304     0.090909       0.043478          1.000000  "
      ]
     },
     "execution_count": 89,
     "metadata": {},
     "output_type": "execute_result"
    }
   ],
   "source": [
    "x_train.head(2)"
   ]
  },
  {
   "cell_type": "code",
   "execution_count": 90,
   "id": "55266d7f",
   "metadata": {},
   "outputs": [
    {
     "data": {
      "text/html": [
       "<div>\n",
       "<style scoped>\n",
       "    .dataframe tbody tr th:only-of-type {\n",
       "        vertical-align: middle;\n",
       "    }\n",
       "\n",
       "    .dataframe tbody tr th {\n",
       "        vertical-align: top;\n",
       "    }\n",
       "\n",
       "    .dataframe thead th {\n",
       "        text-align: right;\n",
       "    }\n",
       "</style>\n",
       "<table border=\"1\" class=\"dataframe\">\n",
       "  <thead>\n",
       "    <tr style=\"text-align: right;\">\n",
       "      <th></th>\n",
       "      <th>Airline</th>\n",
       "      <th>Source</th>\n",
       "      <th>Destination</th>\n",
       "      <th>Total_Stops</th>\n",
       "      <th>Additional_Info</th>\n",
       "      <th>journey_day</th>\n",
       "      <th>journey_month</th>\n",
       "      <th>journey_year</th>\n",
       "      <th>dep_hour</th>\n",
       "      <th>dep_min</th>\n",
       "      <th>arrival_hour</th>\n",
       "      <th>arrival_min</th>\n",
       "      <th>duration_hour</th>\n",
       "      <th>duration_minutes</th>\n",
       "    </tr>\n",
       "  </thead>\n",
       "  <tbody>\n",
       "    <tr>\n",
       "      <th>3691</th>\n",
       "      <td>Vistara</td>\n",
       "      <td>Kolkata</td>\n",
       "      <td>Banglore</td>\n",
       "      <td>0.25</td>\n",
       "      <td>No info</td>\n",
       "      <td>0.884615</td>\n",
       "      <td>0.0</td>\n",
       "      <td>0.0</td>\n",
       "      <td>0.304348</td>\n",
       "      <td>0.181818</td>\n",
       "      <td>0.956522</td>\n",
       "      <td>0.181818</td>\n",
       "      <td>0.652174</td>\n",
       "      <td>0.000000</td>\n",
       "    </tr>\n",
       "    <tr>\n",
       "      <th>7995</th>\n",
       "      <td>SpiceJet</td>\n",
       "      <td>Delhi</td>\n",
       "      <td>Cochin</td>\n",
       "      <td>0.25</td>\n",
       "      <td>No info</td>\n",
       "      <td>0.884615</td>\n",
       "      <td>1.0</td>\n",
       "      <td>0.0</td>\n",
       "      <td>0.652174</td>\n",
       "      <td>0.818182</td>\n",
       "      <td>0.956522</td>\n",
       "      <td>0.090909</td>\n",
       "      <td>0.260870</td>\n",
       "      <td>0.363636</td>\n",
       "    </tr>\n",
       "  </tbody>\n",
       "</table>\n",
       "</div>"
      ],
      "text/plain": [
       "       Airline   Source Destination  Total_Stops Additional_Info  journey_day  \\\n",
       "3691   Vistara  Kolkata    Banglore         0.25         No info     0.884615   \n",
       "7995  SpiceJet    Delhi      Cochin         0.25         No info     0.884615   \n",
       "\n",
       "      journey_month  journey_year  dep_hour   dep_min  arrival_hour  \\\n",
       "3691            0.0           0.0  0.304348  0.181818      0.956522   \n",
       "7995            1.0           0.0  0.652174  0.818182      0.956522   \n",
       "\n",
       "      arrival_min  duration_hour  duration_minutes  \n",
       "3691     0.181818       0.652174          0.000000  \n",
       "7995     0.090909       0.260870          0.363636  "
      ]
     },
     "execution_count": 90,
     "metadata": {},
     "output_type": "execute_result"
    }
   ],
   "source": [
    "x_test.head(2)"
   ]
  },
  {
   "cell_type": "markdown",
   "id": "a81dc232",
   "metadata": {},
   "source": [
    "### Encoding categorical values"
   ]
  },
  {
   "cell_type": "code",
   "execution_count": 91,
   "id": "bd6d9186",
   "metadata": {},
   "outputs": [
    {
     "data": {
      "text/plain": [
       "Airline            8\n",
       "Source             5\n",
       "Destination        5\n",
       "Additional_Info    3\n",
       "dtype: int64"
      ]
     },
     "execution_count": 91,
     "metadata": {},
     "output_type": "execute_result"
    }
   ],
   "source": [
    "x_train[categorical_columns].nunique()"
   ]
  },
  {
   "cell_type": "code",
   "execution_count": 92,
   "id": "bc667b2f",
   "metadata": {},
   "outputs": [],
   "source": [
    "from sklearn.preprocessing import OneHotEncoder"
   ]
  },
  {
   "cell_type": "code",
   "execution_count": 93,
   "id": "5768b7d5",
   "metadata": {},
   "outputs": [],
   "source": [
    "encoder = OneHotEncoder(sparse=False,handle_unknown='ignore')"
   ]
  },
  {
   "cell_type": "code",
   "execution_count": 94,
   "id": "39249309",
   "metadata": {},
   "outputs": [],
   "source": [
    "train_data2 = train_data[categorical_columns]"
   ]
  },
  {
   "cell_type": "code",
   "execution_count": 95,
   "id": "3255e7c9",
   "metadata": {},
   "outputs": [
    {
     "data": {
      "text/plain": [
       "OneHotEncoder(handle_unknown='ignore', sparse=False)"
      ]
     },
     "execution_count": 95,
     "metadata": {},
     "output_type": "execute_result"
    }
   ],
   "source": [
    "encoder.fit(train_data2)"
   ]
  },
  {
   "cell_type": "code",
   "execution_count": 96,
   "id": "5c01a790",
   "metadata": {},
   "outputs": [
    {
     "data": {
      "text/plain": [
       "[array(['Air Asia', 'Air India', 'IndiGo', 'Jet Airways',\n",
       "        'Multiple carriers', 'Others', 'SpiceJet', 'Vistara'], dtype=object),\n",
       " array(['Banglore', 'Chennai', 'Delhi', 'Kolkata', 'Mumbai'], dtype=object),\n",
       " array(['Banglore', 'Cochin', 'Delhi', 'Hyderabad', 'Kolkata'],\n",
       "       dtype=object),\n",
       " array(['In-flight meal not included', 'No info', 'Others'], dtype=object)]"
      ]
     },
     "execution_count": 96,
     "metadata": {},
     "output_type": "execute_result"
    }
   ],
   "source": [
    "encoder.categories_"
   ]
  },
  {
   "cell_type": "code",
   "execution_count": 97,
   "id": "f9d6739f",
   "metadata": {},
   "outputs": [
    {
     "name": "stdout",
     "output_type": "stream",
     "text": [
      "['Airline_Air Asia', 'Airline_Air India', 'Airline_IndiGo', 'Airline_Jet Airways', 'Airline_Multiple carriers', 'Airline_Others', 'Airline_SpiceJet', 'Airline_Vistara', 'Source_Banglore', 'Source_Chennai', 'Source_Delhi', 'Source_Kolkata', 'Source_Mumbai', 'Destination_Banglore', 'Destination_Cochin', 'Destination_Delhi', 'Destination_Hyderabad', 'Destination_Kolkata', 'Additional_Info_In-flight meal not included', 'Additional_Info_No info', 'Additional_Info_Others']\n"
     ]
    }
   ],
   "source": [
    "encoded_column = list(encoder.get_feature_names_out(categorical_columns))\n",
    "print(encoded_column)"
   ]
  },
  {
   "cell_type": "code",
   "execution_count": 98,
   "id": "7fcfe101",
   "metadata": {},
   "outputs": [
    {
     "data": {
      "text/plain": [
       "21"
      ]
     },
     "execution_count": 98,
     "metadata": {},
     "output_type": "execute_result"
    }
   ],
   "source": [
    "len(encoded_column)"
   ]
  },
  {
   "cell_type": "code",
   "execution_count": 99,
   "id": "bcb36378",
   "metadata": {},
   "outputs": [],
   "source": [
    "x_train[encoded_column] = encoder.transform(x_train[categorical_columns])\n",
    "x_test[encoded_column] = encoder.transform(x_test[categorical_columns])"
   ]
  },
  {
   "cell_type": "code",
   "execution_count": 100,
   "id": "32bc948f",
   "metadata": {},
   "outputs": [
    {
     "data": {
      "text/html": [
       "<div>\n",
       "<style scoped>\n",
       "    .dataframe tbody tr th:only-of-type {\n",
       "        vertical-align: middle;\n",
       "    }\n",
       "\n",
       "    .dataframe tbody tr th {\n",
       "        vertical-align: top;\n",
       "    }\n",
       "\n",
       "    .dataframe thead th {\n",
       "        text-align: right;\n",
       "    }\n",
       "</style>\n",
       "<table border=\"1\" class=\"dataframe\">\n",
       "  <thead>\n",
       "    <tr style=\"text-align: right;\">\n",
       "      <th></th>\n",
       "      <th>Airline</th>\n",
       "      <th>Source</th>\n",
       "      <th>Destination</th>\n",
       "      <th>Total_Stops</th>\n",
       "      <th>Additional_Info</th>\n",
       "      <th>journey_day</th>\n",
       "      <th>journey_month</th>\n",
       "      <th>journey_year</th>\n",
       "      <th>dep_hour</th>\n",
       "      <th>dep_min</th>\n",
       "      <th>...</th>\n",
       "      <th>Source_Kolkata</th>\n",
       "      <th>Source_Mumbai</th>\n",
       "      <th>Destination_Banglore</th>\n",
       "      <th>Destination_Cochin</th>\n",
       "      <th>Destination_Delhi</th>\n",
       "      <th>Destination_Hyderabad</th>\n",
       "      <th>Destination_Kolkata</th>\n",
       "      <th>Additional_Info_In-flight meal not included</th>\n",
       "      <th>Additional_Info_No info</th>\n",
       "      <th>Additional_Info_Others</th>\n",
       "    </tr>\n",
       "  </thead>\n",
       "  <tbody>\n",
       "    <tr>\n",
       "      <th>8464</th>\n",
       "      <td>Air India</td>\n",
       "      <td>Kolkata</td>\n",
       "      <td>Banglore</td>\n",
       "      <td>0.00</td>\n",
       "      <td>No info</td>\n",
       "      <td>0.653846</td>\n",
       "      <td>0.0</td>\n",
       "      <td>0.0</td>\n",
       "      <td>0.608696</td>\n",
       "      <td>0.272727</td>\n",
       "      <td>...</td>\n",
       "      <td>1.0</td>\n",
       "      <td>0.0</td>\n",
       "      <td>1.0</td>\n",
       "      <td>0.0</td>\n",
       "      <td>0.0</td>\n",
       "      <td>0.0</td>\n",
       "      <td>0.0</td>\n",
       "      <td>0.0</td>\n",
       "      <td>1.0</td>\n",
       "      <td>0.0</td>\n",
       "    </tr>\n",
       "    <tr>\n",
       "      <th>2037</th>\n",
       "      <td>Vistara</td>\n",
       "      <td>Kolkata</td>\n",
       "      <td>Banglore</td>\n",
       "      <td>0.25</td>\n",
       "      <td>No info</td>\n",
       "      <td>0.192308</td>\n",
       "      <td>1.0</td>\n",
       "      <td>0.0</td>\n",
       "      <td>0.304348</td>\n",
       "      <td>0.181818</td>\n",
       "      <td>...</td>\n",
       "      <td>1.0</td>\n",
       "      <td>0.0</td>\n",
       "      <td>1.0</td>\n",
       "      <td>0.0</td>\n",
       "      <td>0.0</td>\n",
       "      <td>0.0</td>\n",
       "      <td>0.0</td>\n",
       "      <td>0.0</td>\n",
       "      <td>1.0</td>\n",
       "      <td>0.0</td>\n",
       "    </tr>\n",
       "  </tbody>\n",
       "</table>\n",
       "<p>2 rows × 35 columns</p>\n",
       "</div>"
      ],
      "text/plain": [
       "        Airline   Source Destination  Total_Stops Additional_Info  \\\n",
       "8464  Air India  Kolkata    Banglore         0.00         No info   \n",
       "2037    Vistara  Kolkata    Banglore         0.25         No info   \n",
       "\n",
       "      journey_day  journey_month  journey_year  dep_hour   dep_min  ...  \\\n",
       "8464     0.653846            0.0           0.0  0.608696  0.272727  ...   \n",
       "2037     0.192308            1.0           0.0  0.304348  0.181818  ...   \n",
       "\n",
       "      Source_Kolkata  Source_Mumbai  Destination_Banglore  Destination_Cochin  \\\n",
       "8464             1.0            0.0                   1.0                 0.0   \n",
       "2037             1.0            0.0                   1.0                 0.0   \n",
       "\n",
       "      Destination_Delhi  Destination_Hyderabad  Destination_Kolkata  \\\n",
       "8464                0.0                    0.0                  0.0   \n",
       "2037                0.0                    0.0                  0.0   \n",
       "\n",
       "      Additional_Info_In-flight meal not included  Additional_Info_No info  \\\n",
       "8464                                          0.0                      1.0   \n",
       "2037                                          0.0                      1.0   \n",
       "\n",
       "      Additional_Info_Others  \n",
       "8464                     0.0  \n",
       "2037                     0.0  \n",
       "\n",
       "[2 rows x 35 columns]"
      ]
     },
     "execution_count": 100,
     "metadata": {},
     "output_type": "execute_result"
    }
   ],
   "source": [
    "x_train.head(2)"
   ]
  },
  {
   "cell_type": "code",
   "execution_count": 101,
   "id": "c12b3804",
   "metadata": {},
   "outputs": [
    {
     "data": {
      "text/html": [
       "<div>\n",
       "<style scoped>\n",
       "    .dataframe tbody tr th:only-of-type {\n",
       "        vertical-align: middle;\n",
       "    }\n",
       "\n",
       "    .dataframe tbody tr th {\n",
       "        vertical-align: top;\n",
       "    }\n",
       "\n",
       "    .dataframe thead th {\n",
       "        text-align: right;\n",
       "    }\n",
       "</style>\n",
       "<table border=\"1\" class=\"dataframe\">\n",
       "  <thead>\n",
       "    <tr style=\"text-align: right;\">\n",
       "      <th></th>\n",
       "      <th>Total_Stops</th>\n",
       "      <th>journey_day</th>\n",
       "      <th>journey_month</th>\n",
       "      <th>journey_year</th>\n",
       "      <th>dep_hour</th>\n",
       "      <th>dep_min</th>\n",
       "      <th>arrival_hour</th>\n",
       "      <th>arrival_min</th>\n",
       "      <th>duration_hour</th>\n",
       "      <th>duration_minutes</th>\n",
       "      <th>...</th>\n",
       "      <th>Source_Kolkata</th>\n",
       "      <th>Source_Mumbai</th>\n",
       "      <th>Destination_Banglore</th>\n",
       "      <th>Destination_Cochin</th>\n",
       "      <th>Destination_Delhi</th>\n",
       "      <th>Destination_Hyderabad</th>\n",
       "      <th>Destination_Kolkata</th>\n",
       "      <th>Additional_Info_In-flight meal not included</th>\n",
       "      <th>Additional_Info_No info</th>\n",
       "      <th>Additional_Info_Others</th>\n",
       "    </tr>\n",
       "  </thead>\n",
       "  <tbody>\n",
       "    <tr>\n",
       "      <th>8464</th>\n",
       "      <td>0.00</td>\n",
       "      <td>0.653846</td>\n",
       "      <td>0.000000</td>\n",
       "      <td>0.0</td>\n",
       "      <td>0.608696</td>\n",
       "      <td>0.272727</td>\n",
       "      <td>0.695652</td>\n",
       "      <td>0.818182</td>\n",
       "      <td>0.086957</td>\n",
       "      <td>0.545455</td>\n",
       "      <td>...</td>\n",
       "      <td>1.0</td>\n",
       "      <td>0.0</td>\n",
       "      <td>1.0</td>\n",
       "      <td>0.0</td>\n",
       "      <td>0.0</td>\n",
       "      <td>0.0</td>\n",
       "      <td>0.0</td>\n",
       "      <td>0.0</td>\n",
       "      <td>1.0</td>\n",
       "      <td>0.0</td>\n",
       "    </tr>\n",
       "    <tr>\n",
       "      <th>2037</th>\n",
       "      <td>0.25</td>\n",
       "      <td>0.192308</td>\n",
       "      <td>1.000000</td>\n",
       "      <td>0.0</td>\n",
       "      <td>0.304348</td>\n",
       "      <td>0.181818</td>\n",
       "      <td>0.391304</td>\n",
       "      <td>0.090909</td>\n",
       "      <td>0.043478</td>\n",
       "      <td>1.000000</td>\n",
       "      <td>...</td>\n",
       "      <td>1.0</td>\n",
       "      <td>0.0</td>\n",
       "      <td>1.0</td>\n",
       "      <td>0.0</td>\n",
       "      <td>0.0</td>\n",
       "      <td>0.0</td>\n",
       "      <td>0.0</td>\n",
       "      <td>0.0</td>\n",
       "      <td>1.0</td>\n",
       "      <td>0.0</td>\n",
       "    </tr>\n",
       "    <tr>\n",
       "      <th>1923</th>\n",
       "      <td>0.00</td>\n",
       "      <td>0.538462</td>\n",
       "      <td>1.000000</td>\n",
       "      <td>0.0</td>\n",
       "      <td>0.391304</td>\n",
       "      <td>0.636364</td>\n",
       "      <td>0.521739</td>\n",
       "      <td>0.181818</td>\n",
       "      <td>0.086957</td>\n",
       "      <td>0.636364</td>\n",
       "      <td>...</td>\n",
       "      <td>1.0</td>\n",
       "      <td>0.0</td>\n",
       "      <td>1.0</td>\n",
       "      <td>0.0</td>\n",
       "      <td>0.0</td>\n",
       "      <td>0.0</td>\n",
       "      <td>0.0</td>\n",
       "      <td>0.0</td>\n",
       "      <td>1.0</td>\n",
       "      <td>0.0</td>\n",
       "    </tr>\n",
       "    <tr>\n",
       "      <th>5411</th>\n",
       "      <td>0.25</td>\n",
       "      <td>0.538462</td>\n",
       "      <td>0.666667</td>\n",
       "      <td>0.0</td>\n",
       "      <td>0.869565</td>\n",
       "      <td>0.454545</td>\n",
       "      <td>0.826087</td>\n",
       "      <td>0.181818</td>\n",
       "      <td>0.956522</td>\n",
       "      <td>0.818182</td>\n",
       "      <td>...</td>\n",
       "      <td>1.0</td>\n",
       "      <td>0.0</td>\n",
       "      <td>1.0</td>\n",
       "      <td>0.0</td>\n",
       "      <td>0.0</td>\n",
       "      <td>0.0</td>\n",
       "      <td>0.0</td>\n",
       "      <td>0.0</td>\n",
       "      <td>1.0</td>\n",
       "      <td>0.0</td>\n",
       "    </tr>\n",
       "    <tr>\n",
       "      <th>10621</th>\n",
       "      <td>0.00</td>\n",
       "      <td>1.000000</td>\n",
       "      <td>1.000000</td>\n",
       "      <td>0.0</td>\n",
       "      <td>0.956522</td>\n",
       "      <td>0.272727</td>\n",
       "      <td>0.000000</td>\n",
       "      <td>0.909091</td>\n",
       "      <td>0.086957</td>\n",
       "      <td>0.636364</td>\n",
       "      <td>...</td>\n",
       "      <td>1.0</td>\n",
       "      <td>0.0</td>\n",
       "      <td>1.0</td>\n",
       "      <td>0.0</td>\n",
       "      <td>0.0</td>\n",
       "      <td>0.0</td>\n",
       "      <td>0.0</td>\n",
       "      <td>0.0</td>\n",
       "      <td>1.0</td>\n",
       "      <td>0.0</td>\n",
       "    </tr>\n",
       "    <tr>\n",
       "      <th>...</th>\n",
       "      <td>...</td>\n",
       "      <td>...</td>\n",
       "      <td>...</td>\n",
       "      <td>...</td>\n",
       "      <td>...</td>\n",
       "      <td>...</td>\n",
       "      <td>...</td>\n",
       "      <td>...</td>\n",
       "      <td>...</td>\n",
       "      <td>...</td>\n",
       "      <td>...</td>\n",
       "      <td>...</td>\n",
       "      <td>...</td>\n",
       "      <td>...</td>\n",
       "      <td>...</td>\n",
       "      <td>...</td>\n",
       "      <td>...</td>\n",
       "      <td>...</td>\n",
       "      <td>...</td>\n",
       "      <td>...</td>\n",
       "      <td>...</td>\n",
       "    </tr>\n",
       "    <tr>\n",
       "      <th>9387</th>\n",
       "      <td>0.25</td>\n",
       "      <td>0.884615</td>\n",
       "      <td>0.000000</td>\n",
       "      <td>0.0</td>\n",
       "      <td>0.608696</td>\n",
       "      <td>0.636364</td>\n",
       "      <td>0.608696</td>\n",
       "      <td>0.636364</td>\n",
       "      <td>0.000000</td>\n",
       "      <td>0.000000</td>\n",
       "      <td>...</td>\n",
       "      <td>1.0</td>\n",
       "      <td>0.0</td>\n",
       "      <td>1.0</td>\n",
       "      <td>0.0</td>\n",
       "      <td>0.0</td>\n",
       "      <td>0.0</td>\n",
       "      <td>0.0</td>\n",
       "      <td>0.0</td>\n",
       "      <td>1.0</td>\n",
       "      <td>0.0</td>\n",
       "    </tr>\n",
       "    <tr>\n",
       "      <th>4910</th>\n",
       "      <td>0.25</td>\n",
       "      <td>0.769231</td>\n",
       "      <td>0.000000</td>\n",
       "      <td>0.0</td>\n",
       "      <td>0.652174</td>\n",
       "      <td>0.000000</td>\n",
       "      <td>0.043478</td>\n",
       "      <td>0.636364</td>\n",
       "      <td>0.434783</td>\n",
       "      <td>0.636364</td>\n",
       "      <td>...</td>\n",
       "      <td>0.0</td>\n",
       "      <td>0.0</td>\n",
       "      <td>0.0</td>\n",
       "      <td>1.0</td>\n",
       "      <td>0.0</td>\n",
       "      <td>0.0</td>\n",
       "      <td>0.0</td>\n",
       "      <td>0.0</td>\n",
       "      <td>1.0</td>\n",
       "      <td>0.0</td>\n",
       "    </tr>\n",
       "    <tr>\n",
       "      <th>3291</th>\n",
       "      <td>0.00</td>\n",
       "      <td>0.884615</td>\n",
       "      <td>1.000000</td>\n",
       "      <td>0.0</td>\n",
       "      <td>0.739130</td>\n",
       "      <td>0.818182</td>\n",
       "      <td>0.869565</td>\n",
       "      <td>0.090909</td>\n",
       "      <td>0.086957</td>\n",
       "      <td>0.363636</td>\n",
       "      <td>...</td>\n",
       "      <td>0.0</td>\n",
       "      <td>0.0</td>\n",
       "      <td>0.0</td>\n",
       "      <td>0.0</td>\n",
       "      <td>0.0</td>\n",
       "      <td>0.0</td>\n",
       "      <td>1.0</td>\n",
       "      <td>0.0</td>\n",
       "      <td>1.0</td>\n",
       "      <td>0.0</td>\n",
       "    </tr>\n",
       "    <tr>\n",
       "      <th>10034</th>\n",
       "      <td>0.25</td>\n",
       "      <td>0.884615</td>\n",
       "      <td>1.000000</td>\n",
       "      <td>0.0</td>\n",
       "      <td>0.695652</td>\n",
       "      <td>0.000000</td>\n",
       "      <td>0.826087</td>\n",
       "      <td>0.000000</td>\n",
       "      <td>0.130435</td>\n",
       "      <td>0.000000</td>\n",
       "      <td>...</td>\n",
       "      <td>0.0</td>\n",
       "      <td>0.0</td>\n",
       "      <td>0.0</td>\n",
       "      <td>1.0</td>\n",
       "      <td>0.0</td>\n",
       "      <td>0.0</td>\n",
       "      <td>0.0</td>\n",
       "      <td>1.0</td>\n",
       "      <td>0.0</td>\n",
       "      <td>0.0</td>\n",
       "    </tr>\n",
       "    <tr>\n",
       "      <th>2749</th>\n",
       "      <td>0.25</td>\n",
       "      <td>0.538462</td>\n",
       "      <td>0.666667</td>\n",
       "      <td>0.0</td>\n",
       "      <td>0.695652</td>\n",
       "      <td>0.000000</td>\n",
       "      <td>0.043478</td>\n",
       "      <td>0.545455</td>\n",
       "      <td>0.391304</td>\n",
       "      <td>0.545455</td>\n",
       "      <td>...</td>\n",
       "      <td>0.0</td>\n",
       "      <td>0.0</td>\n",
       "      <td>0.0</td>\n",
       "      <td>1.0</td>\n",
       "      <td>0.0</td>\n",
       "      <td>0.0</td>\n",
       "      <td>0.0</td>\n",
       "      <td>0.0</td>\n",
       "      <td>1.0</td>\n",
       "      <td>0.0</td>\n",
       "    </tr>\n",
       "  </tbody>\n",
       "</table>\n",
       "<p>7009 rows × 31 columns</p>\n",
       "</div>"
      ],
      "text/plain": [
       "       Total_Stops  journey_day  journey_month  journey_year  dep_hour  \\\n",
       "8464          0.00     0.653846       0.000000           0.0  0.608696   \n",
       "2037          0.25     0.192308       1.000000           0.0  0.304348   \n",
       "1923          0.00     0.538462       1.000000           0.0  0.391304   \n",
       "5411          0.25     0.538462       0.666667           0.0  0.869565   \n",
       "10621         0.00     1.000000       1.000000           0.0  0.956522   \n",
       "...            ...          ...            ...           ...       ...   \n",
       "9387          0.25     0.884615       0.000000           0.0  0.608696   \n",
       "4910          0.25     0.769231       0.000000           0.0  0.652174   \n",
       "3291          0.00     0.884615       1.000000           0.0  0.739130   \n",
       "10034         0.25     0.884615       1.000000           0.0  0.695652   \n",
       "2749          0.25     0.538462       0.666667           0.0  0.695652   \n",
       "\n",
       "        dep_min  arrival_hour  arrival_min  duration_hour  duration_minutes  \\\n",
       "8464   0.272727      0.695652     0.818182       0.086957          0.545455   \n",
       "2037   0.181818      0.391304     0.090909       0.043478          1.000000   \n",
       "1923   0.636364      0.521739     0.181818       0.086957          0.636364   \n",
       "5411   0.454545      0.826087     0.181818       0.956522          0.818182   \n",
       "10621  0.272727      0.000000     0.909091       0.086957          0.636364   \n",
       "...         ...           ...          ...            ...               ...   \n",
       "9387   0.636364      0.608696     0.636364       0.000000          0.000000   \n",
       "4910   0.000000      0.043478     0.636364       0.434783          0.636364   \n",
       "3291   0.818182      0.869565     0.090909       0.086957          0.363636   \n",
       "10034  0.000000      0.826087     0.000000       0.130435          0.000000   \n",
       "2749   0.000000      0.043478     0.545455       0.391304          0.545455   \n",
       "\n",
       "       ...  Source_Kolkata  Source_Mumbai  Destination_Banglore  \\\n",
       "8464   ...             1.0            0.0                   1.0   \n",
       "2037   ...             1.0            0.0                   1.0   \n",
       "1923   ...             1.0            0.0                   1.0   \n",
       "5411   ...             1.0            0.0                   1.0   \n",
       "10621  ...             1.0            0.0                   1.0   \n",
       "...    ...             ...            ...                   ...   \n",
       "9387   ...             1.0            0.0                   1.0   \n",
       "4910   ...             0.0            0.0                   0.0   \n",
       "3291   ...             0.0            0.0                   0.0   \n",
       "10034  ...             0.0            0.0                   0.0   \n",
       "2749   ...             0.0            0.0                   0.0   \n",
       "\n",
       "       Destination_Cochin  Destination_Delhi  Destination_Hyderabad  \\\n",
       "8464                  0.0                0.0                    0.0   \n",
       "2037                  0.0                0.0                    0.0   \n",
       "1923                  0.0                0.0                    0.0   \n",
       "5411                  0.0                0.0                    0.0   \n",
       "10621                 0.0                0.0                    0.0   \n",
       "...                   ...                ...                    ...   \n",
       "9387                  0.0                0.0                    0.0   \n",
       "4910                  1.0                0.0                    0.0   \n",
       "3291                  0.0                0.0                    0.0   \n",
       "10034                 1.0                0.0                    0.0   \n",
       "2749                  1.0                0.0                    0.0   \n",
       "\n",
       "       Destination_Kolkata  Additional_Info_In-flight meal not included  \\\n",
       "8464                   0.0                                          0.0   \n",
       "2037                   0.0                                          0.0   \n",
       "1923                   0.0                                          0.0   \n",
       "5411                   0.0                                          0.0   \n",
       "10621                  0.0                                          0.0   \n",
       "...                    ...                                          ...   \n",
       "9387                   0.0                                          0.0   \n",
       "4910                   0.0                                          0.0   \n",
       "3291                   1.0                                          0.0   \n",
       "10034                  0.0                                          1.0   \n",
       "2749                   0.0                                          0.0   \n",
       "\n",
       "       Additional_Info_No info  Additional_Info_Others  \n",
       "8464                       1.0                     0.0  \n",
       "2037                       1.0                     0.0  \n",
       "1923                       1.0                     0.0  \n",
       "5411                       1.0                     0.0  \n",
       "10621                      1.0                     0.0  \n",
       "...                        ...                     ...  \n",
       "9387                       1.0                     0.0  \n",
       "4910                       1.0                     0.0  \n",
       "3291                       1.0                     0.0  \n",
       "10034                      0.0                     0.0  \n",
       "2749                       1.0                     0.0  \n",
       "\n",
       "[7009 rows x 31 columns]"
      ]
     },
     "execution_count": 101,
     "metadata": {},
     "output_type": "execute_result"
    }
   ],
   "source": [
    "x_train[numeric_columns + encoded_column]"
   ]
  },
  {
   "cell_type": "code",
   "execution_count": 102,
   "id": "73bd0439",
   "metadata": {},
   "outputs": [],
   "source": [
    "x_train_df = x_train[numeric_columns + encoded_column]"
   ]
  },
  {
   "cell_type": "code",
   "execution_count": 103,
   "id": "5b8cd37a",
   "metadata": {},
   "outputs": [],
   "source": [
    "x_test_df = x_test[numeric_columns + encoded_column]"
   ]
  },
  {
   "cell_type": "code",
   "execution_count": 104,
   "id": "6e04baab",
   "metadata": {
    "scrolled": false
   },
   "outputs": [
    {
     "name": "stdout",
     "output_type": "stream",
     "text": [
      "<class 'pandas.core.frame.DataFrame'>\n",
      "Int64Index: 7009 entries, 8464 to 2749\n",
      "Data columns (total 31 columns):\n",
      " #   Column                                       Non-Null Count  Dtype  \n",
      "---  ------                                       --------------  -----  \n",
      " 0   Total_Stops                                  7009 non-null   float64\n",
      " 1   journey_day                                  7009 non-null   float64\n",
      " 2   journey_month                                7009 non-null   float64\n",
      " 3   journey_year                                 7009 non-null   float64\n",
      " 4   dep_hour                                     7009 non-null   float64\n",
      " 5   dep_min                                      7009 non-null   float64\n",
      " 6   arrival_hour                                 7009 non-null   float64\n",
      " 7   arrival_min                                  7009 non-null   float64\n",
      " 8   duration_hour                                7009 non-null   float64\n",
      " 9   duration_minutes                             7009 non-null   float64\n",
      " 10  Airline_Air Asia                             7009 non-null   float64\n",
      " 11  Airline_Air India                            7009 non-null   float64\n",
      " 12  Airline_IndiGo                               7009 non-null   float64\n",
      " 13  Airline_Jet Airways                          7009 non-null   float64\n",
      " 14  Airline_Multiple carriers                    7009 non-null   float64\n",
      " 15  Airline_Others                               7009 non-null   float64\n",
      " 16  Airline_SpiceJet                             7009 non-null   float64\n",
      " 17  Airline_Vistara                              7009 non-null   float64\n",
      " 18  Source_Banglore                              7009 non-null   float64\n",
      " 19  Source_Chennai                               7009 non-null   float64\n",
      " 20  Source_Delhi                                 7009 non-null   float64\n",
      " 21  Source_Kolkata                               7009 non-null   float64\n",
      " 22  Source_Mumbai                                7009 non-null   float64\n",
      " 23  Destination_Banglore                         7009 non-null   float64\n",
      " 24  Destination_Cochin                           7009 non-null   float64\n",
      " 25  Destination_Delhi                            7009 non-null   float64\n",
      " 26  Destination_Hyderabad                        7009 non-null   float64\n",
      " 27  Destination_Kolkata                          7009 non-null   float64\n",
      " 28  Additional_Info_In-flight meal not included  7009 non-null   float64\n",
      " 29  Additional_Info_No info                      7009 non-null   float64\n",
      " 30  Additional_Info_Others                       7009 non-null   float64\n",
      "dtypes: float64(31)\n",
      "memory usage: 1.7 MB\n"
     ]
    }
   ],
   "source": [
    "x_train_df.info()"
   ]
  },
  {
   "cell_type": "markdown",
   "id": "6bacbd49",
   "metadata": {},
   "source": [
    "# Model Building"
   ]
  },
  {
   "cell_type": "markdown",
   "id": "18096bad",
   "metadata": {},
   "source": [
    "## Gradient Boosting Regressor"
   ]
  },
  {
   "cell_type": "code",
   "execution_count": 105,
   "id": "d006bedb",
   "metadata": {},
   "outputs": [
    {
     "data": {
      "text/plain": [
       "GradientBoostingRegressor()"
      ]
     },
     "execution_count": 105,
     "metadata": {},
     "output_type": "execute_result"
    }
   ],
   "source": [
    "from sklearn.ensemble import GradientBoostingRegressor\n",
    "gbr = GradientBoostingRegressor()\n",
    "gbr.fit(x_train_df, y_train)"
   ]
  },
  {
   "cell_type": "code",
   "execution_count": 106,
   "id": "a9b6d10b",
   "metadata": {},
   "outputs": [
    {
     "name": "stdout",
     "output_type": "stream",
     "text": [
      "Model Performance on Training Set: 81.64\n",
      "Model Performance on Test Set: 79.57\n"
     ]
    }
   ],
   "source": [
    "print('Model Performance on Training Set:', round(gbr.score(x_train_df, y_train)*100,2))\n",
    "print('Model Performance on Test Set:', round(gbr.score(x_test_df, y_test)*100,2))"
   ]
  },
  {
   "cell_type": "code",
   "execution_count": 107,
   "id": "f5d31183",
   "metadata": {},
   "outputs": [],
   "source": [
    "gbrpredict = gbr.predict(x_test_df)"
   ]
  },
  {
   "cell_type": "code",
   "execution_count": 108,
   "id": "dc474d3b",
   "metadata": {},
   "outputs": [
    {
     "data": {
      "image/png": "[encoded data removed]",
      "text/plain": [
       "<Figure size 432x288 with 1 Axes>"
      ]
     },
     "metadata": {
      "needs_background": "light"
     },
     "output_type": "display_data"
    }
   ],
   "source": [
    "plt.scatter(y_test, gbrpredict, alpha = 0.5)\n",
    "plt.xlabel(\"y_test\")\n",
    "plt.ylabel(\"GBR pred\")\n",
    "plt.show()"
   ]
  },
  {
   "cell_type": "code",
   "execution_count": 109,
   "id": "eb7c8f5d",
   "metadata": {
    "scrolled": false
   },
   "outputs": [
    {
     "name": "stdout",
     "output_type": "stream",
     "text": [
      "R2: 0.7956885332040553\n",
      "R2 for train data: 0.8163925746209784\n",
      "MAE: 1274.028770612009\n",
      "MSE: 4241385.831814309\n",
      "RMSE: 2059.4625104172956\n"
     ]
    }
   ],
   "source": [
    "print('R2:',r2_score(y_test, gbrpredict))\n",
    "print('R2 for train data:',r2_score(y_train, gbr.predict(x_train_df)))\n",
    "print('MAE:', metrics.mean_absolute_error(y_test, gbrpredict))\n",
    "print('MSE:', metrics.mean_squared_error(y_test, gbrpredict))\n",
    "print('RMSE:', np.sqrt(metrics.mean_squared_error(y_test, gbrpredict)))"
   ]
  },
  {
   "cell_type": "markdown",
   "id": "a5af89ff",
   "metadata": {},
   "source": [
    "## Random Forest Regression"
   ]
  },
  {
   "cell_type": "code",
   "execution_count": 110,
   "id": "e2dd8ba6",
   "metadata": {},
   "outputs": [
    {
     "data": {
      "text/plain": [
       "RandomForestRegressor()"
      ]
     },
     "execution_count": 110,
     "metadata": {},
     "output_type": "execute_result"
    }
   ],
   "source": [
    "from sklearn.ensemble import RandomForestRegressor\n",
    "\n",
    "rf = RandomForestRegressor()\n",
    "rf.fit(x_train_df,y_train)"
   ]
  },
  {
   "cell_type": "code",
   "execution_count": 111,
   "id": "d8b3506f",
   "metadata": {},
   "outputs": [],
   "source": [
    "rf_predict = rf.predict(x_test_df)"
   ]
  },
  {
   "cell_type": "code",
   "execution_count": 112,
   "id": "ecad1e05",
   "metadata": {},
   "outputs": [
    {
     "data": {
      "text/plain": [
       "array([11907.21,  6297.75, 14302.41, ...,  6015.56,  7004.29,  6571.55])"
      ]
     },
     "execution_count": 112,
     "metadata": {},
     "output_type": "execute_result"
    }
   ],
   "source": [
    "rf_predict"
   ]
  },
  {
   "cell_type": "code",
   "execution_count": 113,
   "id": "931987a2",
   "metadata": {},
   "outputs": [
    {
     "name": "stdout",
     "output_type": "stream",
     "text": [
      "Model Performance on Training Set: 98.21\n",
      "Model Performance on Test Set: 86.99\n"
     ]
    }
   ],
   "source": [
    "print('Model Performance on Training Set:', round(rf.score(x_train_df, y_train)*100,2))\n",
    "print('Model Performance on Test Set:', round(rf.score(x_test_df, y_test)*100,2))"
   ]
  },
  {
   "cell_type": "code",
   "execution_count": 114,
   "id": "dae1c118",
   "metadata": {
    "scrolled": false
   },
   "outputs": [
    {
     "name": "stdout",
     "output_type": "stream",
     "text": [
      "R2: 0.8699239507261722\n",
      "R2 for train data: 0.9821350803136156\n",
      "MAE: 724.1171483320232\n",
      "MSE: 2700302.244902408\n",
      "RMSE: 1643.2596401367643\n"
     ]
    }
   ],
   "source": [
    "print('R2:',r2_score(y_test, rf_predict))\n",
    "print('R2 for train data:',r2_score(y_train, rf.predict(x_train_df)))\n",
    "print('MAE:', metrics.mean_absolute_error(y_test, rf_predict))\n",
    "print('MSE:', metrics.mean_squared_error(y_test, rf_predict))\n",
    "print('RMSE:', np.sqrt(metrics.mean_squared_error(y_test, rf_predict)))"
   ]
  },
  {
   "cell_type": "code",
   "execution_count": 115,
   "id": "ae76e606",
   "metadata": {},
   "outputs": [
    {
     "name": "stdout",
     "output_type": "stream",
     "text": [
      "Normalized RMSE  0.03\n",
      "Max Value:  79512 \n",
      "Min Value:  1759\n"
     ]
    }
   ],
   "source": [
    "print('Normalized RMSE ', round(np.sqrt(metrics.mean_squared_error(y_test, rf_predict))/(max(y_test)-min(y_test)),2))\n",
    "print('Max Value: ', max(y_train), '\\nMin Value: ', min(y_train))"
   ]
  },
  {
   "cell_type": "code",
   "execution_count": 116,
   "id": "58ad8216",
   "metadata": {},
   "outputs": [
    {
     "data": {
      "image/png": "[encoded data removed]",
      "text/plain": [
       "<Figure size 432x288 with 1 Axes>"
      ]
     },
     "metadata": {
      "needs_background": "light"
     },
     "output_type": "display_data"
    }
   ],
   "source": [
    "plt.scatter(y_test, rf_predict, alpha = 0.5)\n",
    "plt.xlabel(\"y_test\")\n",
    "plt.ylabel(\"Random Forest pred\")\n",
    "plt.show()"
   ]
  },
  {
   "cell_type": "markdown",
   "id": "a1866e58",
   "metadata": {},
   "source": [
    "### Hyperparameter Tuning"
   ]
  },
  {
   "cell_type": "code",
   "execution_count": 117,
   "id": "e0225459",
   "metadata": {},
   "outputs": [],
   "source": [
    "from sklearn.model_selection import RandomizedSearchCV"
   ]
  },
  {
   "cell_type": "code",
   "execution_count": 118,
   "id": "a0943763",
   "metadata": {},
   "outputs": [],
   "source": [
    "n_estimators = [int(x) for x in np.linspace(start = 100, stop = 1200, num = 12)]\n",
    "max_features = ['auto', 'sqrt']\n",
    "max_depth = [int(x) for x in np.linspace(5, 30, num = 6)]\n",
    "min_samples_split = [2, 5, 10, 15, 100]\n",
    "min_samples_leaf = [1, 2, 5, 10]"
   ]
  },
  {
   "cell_type": "code",
   "execution_count": 119,
   "id": "628d6aa5",
   "metadata": {},
   "outputs": [],
   "source": [
    "random_grid = {\n",
    "    'n_estimators': n_estimators,\n",
    "    'max_features': max_features,\n",
    "    'max_depth': max_depth,\n",
    "    'min_samples_split': min_samples_split,\n",
    "    'min_samples_leaf': min_samples_leaf\n",
    "}"
   ]
  },
  {
   "cell_type": "code",
   "execution_count": 120,
   "id": "a67b7d83",
   "metadata": {},
   "outputs": [],
   "source": [
    "rf_random = RandomizedSearchCV(estimator = rf, param_distributions = random_grid,\n",
    "                               scoring='neg_mean_squared_error', n_iter = 5, cv = 10, \n",
    "                               verbose=2, random_state=42, n_jobs = -1)"
   ]
  },
  {
   "cell_type": "code",
   "execution_count": 121,
   "id": "4b3317e4",
   "metadata": {
    "scrolled": false
   },
   "outputs": [
    {
     "name": "stdout",
     "output_type": "stream",
     "text": [
      "Fitting 10 folds for each of 5 candidates, totalling 50 fits\n"
     ]
    },
    {
     "data": {
      "text/plain": [
       "RandomizedSearchCV(cv=10, estimator=RandomForestRegressor(), n_iter=5,\n",
       "                   n_jobs=-1,\n",
       "                   param_distributions={'max_depth': [5, 10, 15, 20, 25, 30],\n",
       "                                        'max_features': ['auto', 'sqrt'],\n",
       "                                        'min_samples_leaf': [1, 2, 5, 10],\n",
       "                                        'min_samples_split': [2, 5, 10, 15,\n",
       "                                                              100],\n",
       "                                        'n_estimators': [100, 200, 300, 400,\n",
       "                                                         500, 600, 700, 800,\n",
       "                                                         900, 1000, 1100,\n",
       "                                                         1200]},\n",
       "                   random_state=42, scoring='neg_mean_squared_error',\n",
       "                   verbose=2)"
      ]
     },
     "execution_count": 121,
     "metadata": {},
     "output_type": "execute_result"
    }
   ],
   "source": [
    "rf_random.fit(x_train_df,y_train)"
   ]
  },
  {
   "cell_type": "code",
   "execution_count": 122,
   "id": "67edd439",
   "metadata": {},
   "outputs": [
    {
     "data": {
      "text/plain": [
       "{'n_estimators': 400,\n",
       " 'min_samples_split': 5,\n",
       " 'min_samples_leaf': 5,\n",
       " 'max_features': 'auto',\n",
       " 'max_depth': 15}"
      ]
     },
     "execution_count": 122,
     "metadata": {},
     "output_type": "execute_result"
    }
   ],
   "source": [
    "rf_random.best_params_"
   ]
  },
  {
   "cell_type": "code",
   "execution_count": 123,
   "id": "75355041",
   "metadata": {},
   "outputs": [
    {
     "data": {
      "image/png": "[encoded data removed]",
      "text/plain": [
       "<Figure size 576x576 with 1 Axes>"
      ]
     },
     "metadata": {
      "needs_background": "light"
     },
     "output_type": "display_data"
    }
   ],
   "source": [
    "predict= rf_random.predict(x_test_df)\n",
    "plt.figure(figsize = (8,8))\n",
    "plt.scatter(y_test, predict, alpha = 0.5)\n",
    "plt.xlabel(\"y_test\")\n",
    "plt.ylabel(\"Random Forest pred\")\n",
    "plt.show()"
   ]
  },
  {
   "cell_type": "code",
   "execution_count": 124,
   "id": "ce69ff7d",
   "metadata": {},
   "outputs": [
    {
     "name": "stdout",
     "output_type": "stream",
     "text": [
      "R2 value:  0.86\n",
      "R2 for train data: 0.8967308122895814\n",
      "RMSE:  1697.8\n",
      "Normalized RMSE:  0.03\n",
      "Max Value:  54826 \n",
      "Min Value:  1840\n"
     ]
    }
   ],
   "source": [
    "print('R2 value: ', round(metrics.r2_score(y_test, predict),2))\n",
    "print('R2 for train data:',r2_score(y_train, rf_random.predict(x_train_df)))\n",
    "print('RMSE: ', round(np.sqrt(metrics.mean_squared_error(y_test, predict)),2))\n",
    "print('Normalized RMSE: ', round(np.sqrt(metrics.mean_squared_error(y_test, predict))/(max(y_test)-min(y_test)),2))\n",
    "print('Max Value: ', max(y_test), '\\nMin Value: ', min(y_test))"
   ]
  },
  {
   "cell_type": "markdown",
   "id": "4628027d",
   "metadata": {},
   "source": [
    "## Making predictions for new input"
   ]
  },
  {
   "cell_type": "code",
   "execution_count": 126,
   "id": "1c32c415",
   "metadata": {
    "scrolled": true
   },
   "outputs": [
    {
     "data": {
      "text/html": [
       "<div>\n",
       "<style scoped>\n",
       "    .dataframe tbody tr th:only-of-type {\n",
       "        vertical-align: middle;\n",
       "    }\n",
       "\n",
       "    .dataframe tbody tr th {\n",
       "        vertical-align: top;\n",
       "    }\n",
       "\n",
       "    .dataframe thead th {\n",
       "        text-align: right;\n",
       "    }\n",
       "</style>\n",
       "<table border=\"1\" class=\"dataframe\">\n",
       "  <thead>\n",
       "    <tr style=\"text-align: right;\">\n",
       "      <th></th>\n",
       "      <th>Airline</th>\n",
       "      <th>Source</th>\n",
       "      <th>Destination</th>\n",
       "      <th>Total_Stops</th>\n",
       "      <th>Additional_Info</th>\n",
       "      <th>journey_day</th>\n",
       "      <th>journey_month</th>\n",
       "      <th>journey_year</th>\n",
       "      <th>dep_hour</th>\n",
       "      <th>dep_min</th>\n",
       "      <th>...</th>\n",
       "      <th>Source_Kolkata</th>\n",
       "      <th>Source_Mumbai</th>\n",
       "      <th>Destination_Banglore</th>\n",
       "      <th>Destination_Cochin</th>\n",
       "      <th>Destination_Delhi</th>\n",
       "      <th>Destination_Hyderabad</th>\n",
       "      <th>Destination_Kolkata</th>\n",
       "      <th>Additional_Info_In-flight meal not included</th>\n",
       "      <th>Additional_Info_No info</th>\n",
       "      <th>Additional_Info_Others</th>\n",
       "    </tr>\n",
       "  </thead>\n",
       "  <tbody>\n",
       "    <tr>\n",
       "      <th>8464</th>\n",
       "      <td>Air India</td>\n",
       "      <td>Kolkata</td>\n",
       "      <td>Banglore</td>\n",
       "      <td>0.00</td>\n",
       "      <td>No info</td>\n",
       "      <td>0.653846</td>\n",
       "      <td>0.000000</td>\n",
       "      <td>0.0</td>\n",
       "      <td>0.608696</td>\n",
       "      <td>0.272727</td>\n",
       "      <td>...</td>\n",
       "      <td>1.0</td>\n",
       "      <td>0.0</td>\n",
       "      <td>1.0</td>\n",
       "      <td>0.0</td>\n",
       "      <td>0.0</td>\n",
       "      <td>0.0</td>\n",
       "      <td>0.0</td>\n",
       "      <td>0.0</td>\n",
       "      <td>1.0</td>\n",
       "      <td>0.0</td>\n",
       "    </tr>\n",
       "    <tr>\n",
       "      <th>2037</th>\n",
       "      <td>Vistara</td>\n",
       "      <td>Kolkata</td>\n",
       "      <td>Banglore</td>\n",
       "      <td>0.25</td>\n",
       "      <td>No info</td>\n",
       "      <td>0.192308</td>\n",
       "      <td>1.000000</td>\n",
       "      <td>0.0</td>\n",
       "      <td>0.304348</td>\n",
       "      <td>0.181818</td>\n",
       "      <td>...</td>\n",
       "      <td>1.0</td>\n",
       "      <td>0.0</td>\n",
       "      <td>1.0</td>\n",
       "      <td>0.0</td>\n",
       "      <td>0.0</td>\n",
       "      <td>0.0</td>\n",
       "      <td>0.0</td>\n",
       "      <td>0.0</td>\n",
       "      <td>1.0</td>\n",
       "      <td>0.0</td>\n",
       "    </tr>\n",
       "    <tr>\n",
       "      <th>1923</th>\n",
       "      <td>IndiGo</td>\n",
       "      <td>Kolkata</td>\n",
       "      <td>Banglore</td>\n",
       "      <td>0.00</td>\n",
       "      <td>No info</td>\n",
       "      <td>0.538462</td>\n",
       "      <td>1.000000</td>\n",
       "      <td>0.0</td>\n",
       "      <td>0.391304</td>\n",
       "      <td>0.636364</td>\n",
       "      <td>...</td>\n",
       "      <td>1.0</td>\n",
       "      <td>0.0</td>\n",
       "      <td>1.0</td>\n",
       "      <td>0.0</td>\n",
       "      <td>0.0</td>\n",
       "      <td>0.0</td>\n",
       "      <td>0.0</td>\n",
       "      <td>0.0</td>\n",
       "      <td>1.0</td>\n",
       "      <td>0.0</td>\n",
       "    </tr>\n",
       "    <tr>\n",
       "      <th>5411</th>\n",
       "      <td>Jet Airways</td>\n",
       "      <td>Kolkata</td>\n",
       "      <td>Banglore</td>\n",
       "      <td>0.25</td>\n",
       "      <td>No info</td>\n",
       "      <td>0.538462</td>\n",
       "      <td>0.666667</td>\n",
       "      <td>0.0</td>\n",
       "      <td>0.869565</td>\n",
       "      <td>0.454545</td>\n",
       "      <td>...</td>\n",
       "      <td>1.0</td>\n",
       "      <td>0.0</td>\n",
       "      <td>1.0</td>\n",
       "      <td>0.0</td>\n",
       "      <td>0.0</td>\n",
       "      <td>0.0</td>\n",
       "      <td>0.0</td>\n",
       "      <td>0.0</td>\n",
       "      <td>1.0</td>\n",
       "      <td>0.0</td>\n",
       "    </tr>\n",
       "    <tr>\n",
       "      <th>10621</th>\n",
       "      <td>IndiGo</td>\n",
       "      <td>Kolkata</td>\n",
       "      <td>Banglore</td>\n",
       "      <td>0.00</td>\n",
       "      <td>No info</td>\n",
       "      <td>1.000000</td>\n",
       "      <td>1.000000</td>\n",
       "      <td>0.0</td>\n",
       "      <td>0.956522</td>\n",
       "      <td>0.272727</td>\n",
       "      <td>...</td>\n",
       "      <td>1.0</td>\n",
       "      <td>0.0</td>\n",
       "      <td>1.0</td>\n",
       "      <td>0.0</td>\n",
       "      <td>0.0</td>\n",
       "      <td>0.0</td>\n",
       "      <td>0.0</td>\n",
       "      <td>0.0</td>\n",
       "      <td>1.0</td>\n",
       "      <td>0.0</td>\n",
       "    </tr>\n",
       "  </tbody>\n",
       "</table>\n",
       "<p>5 rows × 35 columns</p>\n",
       "</div>"
      ],
      "text/plain": [
       "           Airline   Source Destination  Total_Stops Additional_Info  \\\n",
       "8464     Air India  Kolkata    Banglore         0.00         No info   \n",
       "2037       Vistara  Kolkata    Banglore         0.25         No info   \n",
       "1923        IndiGo  Kolkata    Banglore         0.00         No info   \n",
       "5411   Jet Airways  Kolkata    Banglore         0.25         No info   \n",
       "10621       IndiGo  Kolkata    Banglore         0.00         No info   \n",
       "\n",
       "       journey_day  journey_month  journey_year  dep_hour   dep_min  ...  \\\n",
       "8464      0.653846       0.000000           0.0  0.608696  0.272727  ...   \n",
       "2037      0.192308       1.000000           0.0  0.304348  0.181818  ...   \n",
       "1923      0.538462       1.000000           0.0  0.391304  0.636364  ...   \n",
       "5411      0.538462       0.666667           0.0  0.869565  0.454545  ...   \n",
       "10621     1.000000       1.000000           0.0  0.956522  0.272727  ...   \n",
       "\n",
       "       Source_Kolkata  Source_Mumbai  Destination_Banglore  \\\n",
       "8464              1.0            0.0                   1.0   \n",
       "2037              1.0            0.0                   1.0   \n",
       "1923              1.0            0.0                   1.0   \n",
       "5411              1.0            0.0                   1.0   \n",
       "10621             1.0            0.0                   1.0   \n",
       "\n",
       "       Destination_Cochin  Destination_Delhi  Destination_Hyderabad  \\\n",
       "8464                  0.0                0.0                    0.0   \n",
       "2037                  0.0                0.0                    0.0   \n",
       "1923                  0.0                0.0                    0.0   \n",
       "5411                  0.0                0.0                    0.0   \n",
       "10621                 0.0                0.0                    0.0   \n",
       "\n",
       "       Destination_Kolkata  Additional_Info_In-flight meal not included  \\\n",
       "8464                   0.0                                          0.0   \n",
       "2037                   0.0                                          0.0   \n",
       "1923                   0.0                                          0.0   \n",
       "5411                   0.0                                          0.0   \n",
       "10621                  0.0                                          0.0   \n",
       "\n",
       "       Additional_Info_No info  Additional_Info_Others  \n",
       "8464                       1.0                     0.0  \n",
       "2037                       1.0                     0.0  \n",
       "1923                       1.0                     0.0  \n",
       "5411                       1.0                     0.0  \n",
       "10621                      1.0                     0.0  \n",
       "\n",
       "[5 rows x 35 columns]"
      ]
     },
     "execution_count": 126,
     "metadata": {},
     "output_type": "execute_result"
    }
   ],
   "source": [
    "x_train.head()"
   ]
  },
  {
   "cell_type": "code",
   "execution_count": 127,
   "id": "b814b8ad",
   "metadata": {},
   "outputs": [
    {
     "name": "stdout",
     "output_type": "stream",
     "text": [
      "<class 'pandas.core.frame.DataFrame'>\n",
      "Int64Index: 7009 entries, 8464 to 2749\n",
      "Data columns (total 31 columns):\n",
      " #   Column                                       Non-Null Count  Dtype  \n",
      "---  ------                                       --------------  -----  \n",
      " 0   Total_Stops                                  7009 non-null   float64\n",
      " 1   journey_day                                  7009 non-null   float64\n",
      " 2   journey_month                                7009 non-null   float64\n",
      " 3   journey_year                                 7009 non-null   float64\n",
      " 4   dep_hour                                     7009 non-null   float64\n",
      " 5   dep_min                                      7009 non-null   float64\n",
      " 6   arrival_hour                                 7009 non-null   float64\n",
      " 7   arrival_min                                  7009 non-null   float64\n",
      " 8   duration_hour                                7009 non-null   float64\n",
      " 9   duration_minutes                             7009 non-null   float64\n",
      " 10  Airline_Air Asia                             7009 non-null   float64\n",
      " 11  Airline_Air India                            7009 non-null   float64\n",
      " 12  Airline_IndiGo                               7009 non-null   float64\n",
      " 13  Airline_Jet Airways                          7009 non-null   float64\n",
      " 14  Airline_Multiple carriers                    7009 non-null   float64\n",
      " 15  Airline_Others                               7009 non-null   float64\n",
      " 16  Airline_SpiceJet                             7009 non-null   float64\n",
      " 17  Airline_Vistara                              7009 non-null   float64\n",
      " 18  Source_Banglore                              7009 non-null   float64\n",
      " 19  Source_Chennai                               7009 non-null   float64\n",
      " 20  Source_Delhi                                 7009 non-null   float64\n",
      " 21  Source_Kolkata                               7009 non-null   float64\n",
      " 22  Source_Mumbai                                7009 non-null   float64\n",
      " 23  Destination_Banglore                         7009 non-null   float64\n",
      " 24  Destination_Cochin                           7009 non-null   float64\n",
      " 25  Destination_Delhi                            7009 non-null   float64\n",
      " 26  Destination_Hyderabad                        7009 non-null   float64\n",
      " 27  Destination_Kolkata                          7009 non-null   float64\n",
      " 28  Additional_Info_In-flight meal not included  7009 non-null   float64\n",
      " 29  Additional_Info_No info                      7009 non-null   float64\n",
      " 30  Additional_Info_Others                       7009 non-null   float64\n",
      "dtypes: float64(31)\n",
      "memory usage: 1.7 MB\n"
     ]
    }
   ],
   "source": [
    "x_train_df.info()"
   ]
  },
  {
   "cell_type": "code",
   "execution_count": 128,
   "id": "e6b232d6",
   "metadata": {},
   "outputs": [],
   "source": [
    "new_input = {\n",
    "    'Airline': 'IndiGo', \n",
    "    'Source': 'Kolkata',\n",
    "    'Destination': 'Cochin', \n",
    "    'Total_Stops': 1, \n",
    "    'Additional_Info': 'In-flight meal not included',\n",
    "    'journey_day': 13, \n",
    "    'journey_month': 11,\n",
    "    'journey_year': 2022,\n",
    "    'dep_hour': 18,\n",
    "    'dep_min': 26,\n",
    "    'arrival_hour': 20,\n",
    "    'arrival_min': 28,\n",
    "    'duration_hour': 2,\n",
    "    'duration_minutes': 2\n",
    "}"
   ]
  },
  {
   "cell_type": "code",
   "execution_count": 129,
   "id": "955b5b70",
   "metadata": {},
   "outputs": [],
   "source": [
    "input_df = pd.DataFrame([new_input])"
   ]
  },
  {
   "cell_type": "code",
   "execution_count": 130,
   "id": "9eaae135",
   "metadata": {},
   "outputs": [
    {
     "data": {
      "text/html": [
       "<div>\n",
       "<style scoped>\n",
       "    .dataframe tbody tr th:only-of-type {\n",
       "        vertical-align: middle;\n",
       "    }\n",
       "\n",
       "    .dataframe tbody tr th {\n",
       "        vertical-align: top;\n",
       "    }\n",
       "\n",
       "    .dataframe thead th {\n",
       "        text-align: right;\n",
       "    }\n",
       "</style>\n",
       "<table border=\"1\" class=\"dataframe\">\n",
       "  <thead>\n",
       "    <tr style=\"text-align: right;\">\n",
       "      <th></th>\n",
       "      <th>Airline</th>\n",
       "      <th>Source</th>\n",
       "      <th>Destination</th>\n",
       "      <th>Total_Stops</th>\n",
       "      <th>Additional_Info</th>\n",
       "      <th>journey_day</th>\n",
       "      <th>journey_month</th>\n",
       "      <th>journey_year</th>\n",
       "      <th>dep_hour</th>\n",
       "      <th>dep_min</th>\n",
       "      <th>arrival_hour</th>\n",
       "      <th>arrival_min</th>\n",
       "      <th>duration_hour</th>\n",
       "      <th>duration_minutes</th>\n",
       "    </tr>\n",
       "  </thead>\n",
       "  <tbody>\n",
       "    <tr>\n",
       "      <th>0</th>\n",
       "      <td>IndiGo</td>\n",
       "      <td>Kolkata</td>\n",
       "      <td>Cochin</td>\n",
       "      <td>1</td>\n",
       "      <td>In-flight meal not included</td>\n",
       "      <td>13</td>\n",
       "      <td>11</td>\n",
       "      <td>2022</td>\n",
       "      <td>18</td>\n",
       "      <td>26</td>\n",
       "      <td>20</td>\n",
       "      <td>28</td>\n",
       "      <td>2</td>\n",
       "      <td>2</td>\n",
       "    </tr>\n",
       "  </tbody>\n",
       "</table>\n",
       "</div>"
      ],
      "text/plain": [
       "  Airline   Source Destination  Total_Stops              Additional_Info  \\\n",
       "0  IndiGo  Kolkata      Cochin            1  In-flight meal not included   \n",
       "\n",
       "   journey_day  journey_month  journey_year  dep_hour  dep_min  arrival_hour  \\\n",
       "0           13             11          2022        18       26            20   \n",
       "\n",
       "   arrival_min  duration_hour  duration_minutes  \n",
       "0           28              2                 2  "
      ]
     },
     "execution_count": 130,
     "metadata": {},
     "output_type": "execute_result"
    }
   ],
   "source": [
    "input_df"
   ]
  },
  {
   "cell_type": "code",
   "execution_count": 131,
   "id": "93343b6c",
   "metadata": {},
   "outputs": [],
   "source": [
    "input_df[numeric_columns] = scaler.transform(input_df[numeric_columns])\n",
    "input_df[encoded_column] = encoder.transform(input_df[categorical_columns])"
   ]
  },
  {
   "cell_type": "code",
   "execution_count": 132,
   "id": "17a2dd37",
   "metadata": {},
   "outputs": [
    {
     "data": {
      "text/html": [
       "<div>\n",
       "<style scoped>\n",
       "    .dataframe tbody tr th:only-of-type {\n",
       "        vertical-align: middle;\n",
       "    }\n",
       "\n",
       "    .dataframe tbody tr th {\n",
       "        vertical-align: top;\n",
       "    }\n",
       "\n",
       "    .dataframe thead th {\n",
       "        text-align: right;\n",
       "    }\n",
       "</style>\n",
       "<table border=\"1\" class=\"dataframe\">\n",
       "  <thead>\n",
       "    <tr style=\"text-align: right;\">\n",
       "      <th></th>\n",
       "      <th>Airline</th>\n",
       "      <th>Source</th>\n",
       "      <th>Destination</th>\n",
       "      <th>Total_Stops</th>\n",
       "      <th>Additional_Info</th>\n",
       "      <th>journey_day</th>\n",
       "      <th>journey_month</th>\n",
       "      <th>journey_year</th>\n",
       "      <th>dep_hour</th>\n",
       "      <th>dep_min</th>\n",
       "      <th>...</th>\n",
       "      <th>Source_Kolkata</th>\n",
       "      <th>Source_Mumbai</th>\n",
       "      <th>Destination_Banglore</th>\n",
       "      <th>Destination_Cochin</th>\n",
       "      <th>Destination_Delhi</th>\n",
       "      <th>Destination_Hyderabad</th>\n",
       "      <th>Destination_Kolkata</th>\n",
       "      <th>Additional_Info_In-flight meal not included</th>\n",
       "      <th>Additional_Info_No info</th>\n",
       "      <th>Additional_Info_Others</th>\n",
       "    </tr>\n",
       "  </thead>\n",
       "  <tbody>\n",
       "    <tr>\n",
       "      <th>0</th>\n",
       "      <td>IndiGo</td>\n",
       "      <td>Kolkata</td>\n",
       "      <td>Cochin</td>\n",
       "      <td>0.25</td>\n",
       "      <td>In-flight meal not included</td>\n",
       "      <td>0.461538</td>\n",
       "      <td>2.666667</td>\n",
       "      <td>3.0</td>\n",
       "      <td>0.782609</td>\n",
       "      <td>0.472727</td>\n",
       "      <td>...</td>\n",
       "      <td>1.0</td>\n",
       "      <td>0.0</td>\n",
       "      <td>0.0</td>\n",
       "      <td>1.0</td>\n",
       "      <td>0.0</td>\n",
       "      <td>0.0</td>\n",
       "      <td>0.0</td>\n",
       "      <td>1.0</td>\n",
       "      <td>0.0</td>\n",
       "      <td>0.0</td>\n",
       "    </tr>\n",
       "  </tbody>\n",
       "</table>\n",
       "<p>1 rows × 35 columns</p>\n",
       "</div>"
      ],
      "text/plain": [
       "  Airline   Source Destination  Total_Stops              Additional_Info  \\\n",
       "0  IndiGo  Kolkata      Cochin         0.25  In-flight meal not included   \n",
       "\n",
       "   journey_day  journey_month  journey_year  dep_hour   dep_min  ...  \\\n",
       "0     0.461538       2.666667           3.0  0.782609  0.472727  ...   \n",
       "\n",
       "   Source_Kolkata  Source_Mumbai  Destination_Banglore  Destination_Cochin  \\\n",
       "0             1.0            0.0                   0.0                 1.0   \n",
       "\n",
       "   Destination_Delhi  Destination_Hyderabad  Destination_Kolkata  \\\n",
       "0                0.0                    0.0                  0.0   \n",
       "\n",
       "   Additional_Info_In-flight meal not included  Additional_Info_No info  \\\n",
       "0                                          1.0                      0.0   \n",
       "\n",
       "   Additional_Info_Others  \n",
       "0                     0.0  \n",
       "\n",
       "[1 rows x 35 columns]"
      ]
     },
     "execution_count": 132,
     "metadata": {},
     "output_type": "execute_result"
    }
   ],
   "source": [
    "input_df"
   ]
  },
  {
   "cell_type": "code",
   "execution_count": 133,
   "id": "5d0c56f5",
   "metadata": {},
   "outputs": [],
   "source": [
    "x_input_df = input_df[numeric_columns + encoded_column]"
   ]
  },
  {
   "cell_type": "code",
   "execution_count": 134,
   "id": "0c5347f7",
   "metadata": {},
   "outputs": [
    {
     "data": {
      "text/html": [
       "<div>\n",
       "<style scoped>\n",
       "    .dataframe tbody tr th:only-of-type {\n",
       "        vertical-align: middle;\n",
       "    }\n",
       "\n",
       "    .dataframe tbody tr th {\n",
       "        vertical-align: top;\n",
       "    }\n",
       "\n",
       "    .dataframe thead th {\n",
       "        text-align: right;\n",
       "    }\n",
       "</style>\n",
       "<table border=\"1\" class=\"dataframe\">\n",
       "  <thead>\n",
       "    <tr style=\"text-align: right;\">\n",
       "      <th></th>\n",
       "      <th>Total_Stops</th>\n",
       "      <th>journey_day</th>\n",
       "      <th>journey_month</th>\n",
       "      <th>journey_year</th>\n",
       "      <th>dep_hour</th>\n",
       "      <th>dep_min</th>\n",
       "      <th>arrival_hour</th>\n",
       "      <th>arrival_min</th>\n",
       "      <th>duration_hour</th>\n",
       "      <th>duration_minutes</th>\n",
       "      <th>...</th>\n",
       "      <th>Source_Kolkata</th>\n",
       "      <th>Source_Mumbai</th>\n",
       "      <th>Destination_Banglore</th>\n",
       "      <th>Destination_Cochin</th>\n",
       "      <th>Destination_Delhi</th>\n",
       "      <th>Destination_Hyderabad</th>\n",
       "      <th>Destination_Kolkata</th>\n",
       "      <th>Additional_Info_In-flight meal not included</th>\n",
       "      <th>Additional_Info_No info</th>\n",
       "      <th>Additional_Info_Others</th>\n",
       "    </tr>\n",
       "  </thead>\n",
       "  <tbody>\n",
       "    <tr>\n",
       "      <th>0</th>\n",
       "      <td>0.25</td>\n",
       "      <td>0.461538</td>\n",
       "      <td>2.666667</td>\n",
       "      <td>3.0</td>\n",
       "      <td>0.782609</td>\n",
       "      <td>0.472727</td>\n",
       "      <td>0.869565</td>\n",
       "      <td>0.509091</td>\n",
       "      <td>0.086957</td>\n",
       "      <td>0.036364</td>\n",
       "      <td>...</td>\n",
       "      <td>1.0</td>\n",
       "      <td>0.0</td>\n",
       "      <td>0.0</td>\n",
       "      <td>1.0</td>\n",
       "      <td>0.0</td>\n",
       "      <td>0.0</td>\n",
       "      <td>0.0</td>\n",
       "      <td>1.0</td>\n",
       "      <td>0.0</td>\n",
       "      <td>0.0</td>\n",
       "    </tr>\n",
       "  </tbody>\n",
       "</table>\n",
       "<p>1 rows × 31 columns</p>\n",
       "</div>"
      ],
      "text/plain": [
       "   Total_Stops  journey_day  journey_month  journey_year  dep_hour   dep_min  \\\n",
       "0         0.25     0.461538       2.666667           3.0  0.782609  0.472727   \n",
       "\n",
       "   arrival_hour  arrival_min  duration_hour  duration_minutes  ...  \\\n",
       "0      0.869565     0.509091       0.086957          0.036364  ...   \n",
       "\n",
       "   Source_Kolkata  Source_Mumbai  Destination_Banglore  Destination_Cochin  \\\n",
       "0             1.0            0.0                   0.0                 1.0   \n",
       "\n",
       "   Destination_Delhi  Destination_Hyderabad  Destination_Kolkata  \\\n",
       "0                0.0                    0.0                  0.0   \n",
       "\n",
       "   Additional_Info_In-flight meal not included  Additional_Info_No info  \\\n",
       "0                                          1.0                      0.0   \n",
       "\n",
       "   Additional_Info_Others  \n",
       "0                     0.0  \n",
       "\n",
       "[1 rows x 31 columns]"
      ]
     },
     "execution_count": 134,
     "metadata": {},
     "output_type": "execute_result"
    }
   ],
   "source": [
    "x_input_df"
   ]
  },
  {
   "cell_type": "code",
   "execution_count": 135,
   "id": "865d97b3",
   "metadata": {},
   "outputs": [],
   "source": [
    "prediction = rf_random.predict(x_input_df)[0]"
   ]
  },
  {
   "cell_type": "code",
   "execution_count": 136,
   "id": "377be9e7",
   "metadata": {},
   "outputs": [
    {
     "data": {
      "text/plain": [
       "4483.000274643145"
      ]
     },
     "execution_count": 136,
     "metadata": {},
     "output_type": "execute_result"
    }
   ],
   "source": [
    "prediction"
   ]
  },
  {
   "cell_type": "markdown",
   "id": "06782ad7",
   "metadata": {},
   "source": [
    "## Save the model"
   ]
  },
  {
   "cell_type": "code",
   "execution_count": 137,
   "id": "be37f003",
   "metadata": {},
   "outputs": [],
   "source": [
    "import pickle\n",
    "pickle.dump(rf_random,open('random_forest_model.pkl','wb'))\n",
    "model=pickle.load(open('random_forest_model.pkl','rb'))"
   ]
  },
  {
   "cell_type": "code",
   "execution_count": 138,
   "id": "959471eb",
   "metadata": {},
   "outputs": [],
   "source": [
    "import joblib"
   ]
  },
  {
   "cell_type": "code",
   "execution_count": 139,
   "id": "5cdd3824",
   "metadata": {},
   "outputs": [
    {
     "data": {
      "text/plain": [
       "['numeric_columns.pkl']"
      ]
     },
     "execution_count": 139,
     "metadata": {},
     "output_type": "execute_result"
    }
   ],
   "source": [
    "joblib.dump(numeric_columns, \"numeric_columns.pkl\")"
   ]
  },
  {
   "cell_type": "code",
   "execution_count": 140,
   "id": "161a8463",
   "metadata": {},
   "outputs": [
    {
     "data": {
      "text/plain": [
       "['categorical_columns.pkl']"
      ]
     },
     "execution_count": 140,
     "metadata": {},
     "output_type": "execute_result"
    }
   ],
   "source": [
    "joblib.dump(categorical_columns, \"categorical_columns.pkl\")"
   ]
  },
  {
   "cell_type": "code",
   "execution_count": 142,
   "id": "ab1c413a",
   "metadata": {},
   "outputs": [
    {
     "data": {
      "text/plain": [
       "['encoded_column.pkl']"
      ]
     },
     "execution_count": 142,
     "metadata": {},
     "output_type": "execute_result"
    }
   ],
   "source": [
    "joblib.dump(encoded_column, \"encoded_column.pkl\")"
   ]
  },
  {
   "cell_type": "code",
   "execution_count": 143,
   "id": "ab132748",
   "metadata": {},
   "outputs": [
    {
     "data": {
      "text/plain": [
       "['scaler.pkl']"
      ]
     },
     "execution_count": 143,
     "metadata": {},
     "output_type": "execute_result"
    }
   ],
   "source": [
    "joblib.dump(scaler, \"scaler.pkl\")"
   ]
  },
  {
   "cell_type": "code",
   "execution_count": 144,
   "id": "79819118",
   "metadata": {},
   "outputs": [
    {
     "data": {
      "text/plain": [
       "['encoder.pkl']"
      ]
     },
     "execution_count": 144,
     "metadata": {},
     "output_type": "execute_result"
    }
   ],
   "source": [
    "joblib.dump(encoder, \"encoder.pkl\")"
   ]
  },
  {
   "cell_type": "markdown",
   "id": "a31a1b1d",
   "metadata": {},
   "source": [
    "## Prediction on Unseen data"
   ]
  },
  {
   "cell_type": "code",
   "execution_count": 146,
   "id": "9984a348",
   "metadata": {},
   "outputs": [],
   "source": [
    "import pickle\n",
    "path = 'random_forest_model.pkl'\n",
    "model = open(path,'rb')\n",
    "rf_model = pickle.load(model)"
   ]
  },
  {
   "cell_type": "code",
   "execution_count": 147,
   "id": "99a0a58b",
   "metadata": {},
   "outputs": [],
   "source": [
    "test_data = pd.read_excel('Test.xlsx')"
   ]
  },
  {
   "cell_type": "code",
   "execution_count": 148,
   "id": "4d411956",
   "metadata": {},
   "outputs": [
    {
     "data": {
      "text/html": [
       "<div>\n",
       "<style scoped>\n",
       "    .dataframe tbody tr th:only-of-type {\n",
       "        vertical-align: middle;\n",
       "    }\n",
       "\n",
       "    .dataframe tbody tr th {\n",
       "        vertical-align: top;\n",
       "    }\n",
       "\n",
       "    .dataframe thead th {\n",
       "        text-align: right;\n",
       "    }\n",
       "</style>\n",
       "<table border=\"1\" class=\"dataframe\">\n",
       "  <thead>\n",
       "    <tr style=\"text-align: right;\">\n",
       "      <th></th>\n",
       "      <th>Total_Stops</th>\n",
       "      <th>journey_day</th>\n",
       "      <th>journey_month</th>\n",
       "      <th>journey_year</th>\n",
       "      <th>dep_hour</th>\n",
       "      <th>dep_min</th>\n",
       "      <th>arrival_hour</th>\n",
       "      <th>arrival_min</th>\n",
       "      <th>duration_hour</th>\n",
       "      <th>duration_minutes</th>\n",
       "      <th>...</th>\n",
       "      <th>Source_Kolkata</th>\n",
       "      <th>Source_Mumbai</th>\n",
       "      <th>Destination_Banglore</th>\n",
       "      <th>Destination_Cochin</th>\n",
       "      <th>Destination_Delhi</th>\n",
       "      <th>Destination_Hyderabad</th>\n",
       "      <th>Destination_Kolkata</th>\n",
       "      <th>Additional_Info_In-flight meal not included</th>\n",
       "      <th>Additional_Info_No info</th>\n",
       "      <th>Additional_Info_Others</th>\n",
       "    </tr>\n",
       "  </thead>\n",
       "  <tbody>\n",
       "    <tr>\n",
       "      <th>0</th>\n",
       "      <td>0.25</td>\n",
       "      <td>0.192308</td>\n",
       "      <td>1.000000</td>\n",
       "      <td>0</td>\n",
       "      <td>0.739130</td>\n",
       "      <td>0.545455</td>\n",
       "      <td>0.173913</td>\n",
       "      <td>0.454545</td>\n",
       "      <td>0.434783</td>\n",
       "      <td>1.000000</td>\n",
       "      <td>...</td>\n",
       "      <td>0</td>\n",
       "      <td>0</td>\n",
       "      <td>0</td>\n",
       "      <td>1</td>\n",
       "      <td>0</td>\n",
       "      <td>0</td>\n",
       "      <td>0</td>\n",
       "      <td>0</td>\n",
       "      <td>1</td>\n",
       "      <td>0</td>\n",
       "    </tr>\n",
       "    <tr>\n",
       "      <th>1</th>\n",
       "      <td>0.25</td>\n",
       "      <td>0.423077</td>\n",
       "      <td>0.666667</td>\n",
       "      <td>0</td>\n",
       "      <td>0.260870</td>\n",
       "      <td>0.363636</td>\n",
       "      <td>0.434783</td>\n",
       "      <td>0.363636</td>\n",
       "      <td>0.173913</td>\n",
       "      <td>0.000000</td>\n",
       "      <td>...</td>\n",
       "      <td>1</td>\n",
       "      <td>0</td>\n",
       "      <td>1</td>\n",
       "      <td>0</td>\n",
       "      <td>0</td>\n",
       "      <td>0</td>\n",
       "      <td>0</td>\n",
       "      <td>0</td>\n",
       "      <td>1</td>\n",
       "      <td>0</td>\n",
       "    </tr>\n",
       "    <tr>\n",
       "      <th>2</th>\n",
       "      <td>0.25</td>\n",
       "      <td>0.769231</td>\n",
       "      <td>0.666667</td>\n",
       "      <td>0</td>\n",
       "      <td>0.826087</td>\n",
       "      <td>0.272727</td>\n",
       "      <td>0.826087</td>\n",
       "      <td>0.000000</td>\n",
       "      <td>1.000000</td>\n",
       "      <td>0.818182</td>\n",
       "      <td>...</td>\n",
       "      <td>0</td>\n",
       "      <td>0</td>\n",
       "      <td>0</td>\n",
       "      <td>1</td>\n",
       "      <td>0</td>\n",
       "      <td>0</td>\n",
       "      <td>0</td>\n",
       "      <td>1</td>\n",
       "      <td>0</td>\n",
       "      <td>0</td>\n",
       "    </tr>\n",
       "    <tr>\n",
       "      <th>3</th>\n",
       "      <td>0.25</td>\n",
       "      <td>0.769231</td>\n",
       "      <td>0.666667</td>\n",
       "      <td>0</td>\n",
       "      <td>0.347826</td>\n",
       "      <td>0.000000</td>\n",
       "      <td>0.913043</td>\n",
       "      <td>0.000000</td>\n",
       "      <td>0.565217</td>\n",
       "      <td>0.000000</td>\n",
       "      <td>...</td>\n",
       "      <td>0</td>\n",
       "      <td>0</td>\n",
       "      <td>0</td>\n",
       "      <td>1</td>\n",
       "      <td>0</td>\n",
       "      <td>0</td>\n",
       "      <td>0</td>\n",
       "      <td>0</td>\n",
       "      <td>1</td>\n",
       "      <td>0</td>\n",
       "    </tr>\n",
       "    <tr>\n",
       "      <th>4</th>\n",
       "      <td>0.00</td>\n",
       "      <td>0.884615</td>\n",
       "      <td>1.000000</td>\n",
       "      <td>0</td>\n",
       "      <td>1.000000</td>\n",
       "      <td>1.000000</td>\n",
       "      <td>0.086957</td>\n",
       "      <td>0.818182</td>\n",
       "      <td>0.086957</td>\n",
       "      <td>0.909091</td>\n",
       "      <td>...</td>\n",
       "      <td>0</td>\n",
       "      <td>0</td>\n",
       "      <td>0</td>\n",
       "      <td>0</td>\n",
       "      <td>1</td>\n",
       "      <td>0</td>\n",
       "      <td>0</td>\n",
       "      <td>0</td>\n",
       "      <td>1</td>\n",
       "      <td>0</td>\n",
       "    </tr>\n",
       "  </tbody>\n",
       "</table>\n",
       "<p>5 rows × 31 columns</p>\n",
       "</div>"
      ],
      "text/plain": [
       "   Total_Stops  journey_day  journey_month  journey_year  dep_hour   dep_min  \\\n",
       "0         0.25     0.192308       1.000000             0  0.739130  0.545455   \n",
       "1         0.25     0.423077       0.666667             0  0.260870  0.363636   \n",
       "2         0.25     0.769231       0.666667             0  0.826087  0.272727   \n",
       "3         0.25     0.769231       0.666667             0  0.347826  0.000000   \n",
       "4         0.00     0.884615       1.000000             0  1.000000  1.000000   \n",
       "\n",
       "   arrival_hour  arrival_min  duration_hour  duration_minutes  ...  \\\n",
       "0      0.173913     0.454545       0.434783          1.000000  ...   \n",
       "1      0.434783     0.363636       0.173913          0.000000  ...   \n",
       "2      0.826087     0.000000       1.000000          0.818182  ...   \n",
       "3      0.913043     0.000000       0.565217          0.000000  ...   \n",
       "4      0.086957     0.818182       0.086957          0.909091  ...   \n",
       "\n",
       "   Source_Kolkata  Source_Mumbai  Destination_Banglore  Destination_Cochin  \\\n",
       "0               0              0                     0                   1   \n",
       "1               1              0                     1                   0   \n",
       "2               0              0                     0                   1   \n",
       "3               0              0                     0                   1   \n",
       "4               0              0                     0                   0   \n",
       "\n",
       "   Destination_Delhi  Destination_Hyderabad  Destination_Kolkata  \\\n",
       "0                  0                      0                    0   \n",
       "1                  0                      0                    0   \n",
       "2                  0                      0                    0   \n",
       "3                  0                      0                    0   \n",
       "4                  1                      0                    0   \n",
       "\n",
       "   Additional_Info_In-flight meal not included  Additional_Info_No info  \\\n",
       "0                                            0                        1   \n",
       "1                                            0                        1   \n",
       "2                                            1                        0   \n",
       "3                                            0                        1   \n",
       "4                                            0                        1   \n",
       "\n",
       "   Additional_Info_Others  \n",
       "0                       0  \n",
       "1                       0  \n",
       "2                       0  \n",
       "3                       0  \n",
       "4                       0  \n",
       "\n",
       "[5 rows x 31 columns]"
      ]
     },
     "execution_count": 148,
     "metadata": {},
     "output_type": "execute_result"
    }
   ],
   "source": [
    "test_data.head()"
   ]
  },
  {
   "cell_type": "code",
   "execution_count": 150,
   "id": "932acb55",
   "metadata": {},
   "outputs": [],
   "source": [
    "pred = rf_model.predict(test_data)"
   ]
  },
  {
   "cell_type": "code",
   "execution_count": 152,
   "id": "3e559cb6",
   "metadata": {},
   "outputs": [],
   "source": [
    "prediction = pd.DataFrame({'Predicted Value':pred})"
   ]
  },
  {
   "cell_type": "code",
   "execution_count": 153,
   "id": "52b51815",
   "metadata": {},
   "outputs": [
    {
     "data": {
      "text/html": [
       "<div>\n",
       "<style scoped>\n",
       "    .dataframe tbody tr th:only-of-type {\n",
       "        vertical-align: middle;\n",
       "    }\n",
       "\n",
       "    .dataframe tbody tr th {\n",
       "        vertical-align: top;\n",
       "    }\n",
       "\n",
       "    .dataframe thead th {\n",
       "        text-align: right;\n",
       "    }\n",
       "</style>\n",
       "<table border=\"1\" class=\"dataframe\">\n",
       "  <thead>\n",
       "    <tr style=\"text-align: right;\">\n",
       "      <th></th>\n",
       "      <th>Predicted Value</th>\n",
       "    </tr>\n",
       "  </thead>\n",
       "  <tbody>\n",
       "    <tr>\n",
       "      <th>0</th>\n",
       "      <td>14621.052591</td>\n",
       "    </tr>\n",
       "    <tr>\n",
       "      <th>1</th>\n",
       "      <td>4221.027905</td>\n",
       "    </tr>\n",
       "    <tr>\n",
       "      <th>2</th>\n",
       "      <td>12844.305216</td>\n",
       "    </tr>\n",
       "    <tr>\n",
       "      <th>3</th>\n",
       "      <td>10683.344266</td>\n",
       "    </tr>\n",
       "    <tr>\n",
       "      <th>4</th>\n",
       "      <td>3864.623898</td>\n",
       "    </tr>\n",
       "    <tr>\n",
       "      <th>...</th>\n",
       "      <td>...</td>\n",
       "    </tr>\n",
       "    <tr>\n",
       "      <th>2640</th>\n",
       "      <td>9926.233987</td>\n",
       "    </tr>\n",
       "    <tr>\n",
       "      <th>2641</th>\n",
       "      <td>5740.161962</td>\n",
       "    </tr>\n",
       "    <tr>\n",
       "      <th>2642</th>\n",
       "      <td>16048.768669</td>\n",
       "    </tr>\n",
       "    <tr>\n",
       "      <th>2643</th>\n",
       "      <td>14285.338801</td>\n",
       "    </tr>\n",
       "    <tr>\n",
       "      <th>2644</th>\n",
       "      <td>8325.972185</td>\n",
       "    </tr>\n",
       "  </tbody>\n",
       "</table>\n",
       "<p>2645 rows × 1 columns</p>\n",
       "</div>"
      ],
      "text/plain": [
       "      Predicted Value\n",
       "0        14621.052591\n",
       "1         4221.027905\n",
       "2        12844.305216\n",
       "3        10683.344266\n",
       "4         3864.623898\n",
       "...               ...\n",
       "2640      9926.233987\n",
       "2641      5740.161962\n",
       "2642     16048.768669\n",
       "2643     14285.338801\n",
       "2644      8325.972185\n",
       "\n",
       "[2645 rows x 1 columns]"
      ]
     },
     "execution_count": 153,
     "metadata": {},
     "output_type": "execute_result"
    }
   ],
   "source": [
    "prediction"
   ]
  },
  {
   "cell_type": "code",
   "execution_count": 156,
   "id": "ac9a6413",
   "metadata": {},
   "outputs": [],
   "source": [
    "prediction.to_csv('Submission.csv')"
   ]
  }
 ],
 "metadata": {
  "kernelspec": {
   "display_name": "Python 3 (ipykernel)",
   "language": "python",
   "name": "python3"
  },
  "language_info": {
   "codemirror_mode": {
    "name": "ipython",
    "version": 3
   },
   "file_extension": ".py",
   "mimetype": "text/x-python",
   "name": "python",
   "nbconvert_exporter": "python",
   "pygments_lexer": "ipython3",
   "version": "3.9.12"
  }
 },
 "nbformat": 4,
 "nbformat_minor": 5
}
